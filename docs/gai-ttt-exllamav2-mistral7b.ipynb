{
 "cells": [
  {
   "cell_type": "markdown",
   "metadata": {},
   "source": [
    "## 1. Install"
   ]
  },
  {
   "cell_type": "markdown",
   "metadata": {},
   "source": [
    "Create conda env `gai-ttt-svr` and install gai-ttt-svr package. After that, switch the kernel to `gai-ttt-svr` before proceeding further.\n"
   ]
  },
  {
   "cell_type": "code",
   "execution_count": null,
   "metadata": {},
   "outputs": [],
   "source": [
    "%%bash\n",
    "conda create -n gai-ttt-svr python=3.10.10 -y\n",
    "eval \"$(conda shell.bash hook)\" && conda activate gai-ttt-svr\n",
    "cd ../..\n",
    "poetry install"
   ]
  },
  {
   "cell_type": "markdown",
   "metadata": {},
   "source": [
    "## 2. Smoke Test"
   ]
  },
  {
   "cell_type": "code",
   "execution_count": 2,
   "metadata": {},
   "outputs": [
    {
     "data": {
      "text/html": [
       "<pre style=\"white-space:pre;overflow-x:auto;line-height:normal;font-family:Menlo,'DejaVu Sans Mono',consolas,'Courier New',monospace\">Free memory: <span style=\"color: #00ff00; text-decoration-color: #00ff00; font-weight: bold\">5.98</span><span style=\"color: #00ff00; text-decoration-color: #00ff00\"> GB</span>\n",
       "</pre>\n"
      ],
      "text/plain": [
       "Free memory: \u001b[1;92m5.98\u001b[0m\u001b[92m GB\u001b[0m\n"
      ]
     },
     "metadata": {},
     "output_type": "display_data"
    },
    {
     "data": {
      "text/html": [
       "<pre style=\"white-space:pre;overflow-x:auto;line-height:normal;font-family:Menlo,'DejaVu Sans Mono',consolas,'Courier New',monospace\"><span style=\"font-style: italic\">                      Performance load_config                      </span>\n",
       "┏━━━━━━━━━━━━━━━━━━━┳━━━━━━━━━━━━━━━┳━━━━━━━━━━━━━━┳━━━━━━━━━━━━━━┓\n",
       "┃<span style=\"color: #af00ff; text-decoration-color: #af00ff; font-weight: bold\"> Metric            </span>┃<span style=\"color: #af00ff; text-decoration-color: #af00ff; font-weight: bold\"> Initial Value </span>┃<span style=\"color: #af00ff; text-decoration-color: #af00ff; font-weight: bold\"> Change Value </span>┃<span style=\"color: #af00ff; text-decoration-color: #af00ff; font-weight: bold\">  Final Value </span>┃\n",
       "┡━━━━━━━━━━━━━━━━━━━╇━━━━━━━━━━━━━━━╇━━━━━━━━━━━━━━╇━━━━━━━━━━━━━━┩\n",
       "│<span style=\"color: #008080; text-decoration-color: #008080\"> Function Duration </span>│<span style=\"color: #008000; text-decoration-color: #008000\">             - </span>│<span style=\"color: #808000; text-decoration-color: #808000\"> 4.75 seconds </span>│<span style=\"color: #800080; text-decoration-color: #800080\"> 4.75 seconds </span>│\n",
       "│<span style=\"color: #008080; text-decoration-color: #008080\"> CPU Memory        </span>│<span style=\"color: #008000; text-decoration-color: #008000\">          - MB </span>│<span style=\"color: #808000; text-decoration-color: #808000\">     21.49 MB </span>│<span style=\"color: #800080; text-decoration-color: #800080\">     21.49 MB </span>│\n",
       "│<span style=\"color: #008080; text-decoration-color: #008080\"> CUDA Memory       </span>│<span style=\"color: #008000; text-decoration-color: #008000\">       5.98 GB </span>│<span style=\"color: #808000; text-decoration-color: #808000\">     -0.04 GB </span>│<span style=\"color: #800080; text-decoration-color: #800080\">      6.02 GB </span>│\n",
       "└───────────────────┴───────────────┴──────────────┴──────────────┘\n",
       "</pre>\n"
      ],
      "text/plain": [
       "\u001b[3m                      Performance load_config                      \u001b[0m\n",
       "┏━━━━━━━━━━━━━━━━━━━┳━━━━━━━━━━━━━━━┳━━━━━━━━━━━━━━┳━━━━━━━━━━━━━━┓\n",
       "┃\u001b[1;38;5;129m \u001b[0m\u001b[1;38;5;129mMetric           \u001b[0m\u001b[1;38;5;129m \u001b[0m┃\u001b[1;38;5;129m \u001b[0m\u001b[1;38;5;129mInitial Value\u001b[0m\u001b[1;38;5;129m \u001b[0m┃\u001b[1;38;5;129m \u001b[0m\u001b[1;38;5;129mChange Value\u001b[0m\u001b[1;38;5;129m \u001b[0m┃\u001b[1;38;5;129m \u001b[0m\u001b[1;38;5;129m Final Value\u001b[0m\u001b[1;38;5;129m \u001b[0m┃\n",
       "┡━━━━━━━━━━━━━━━━━━━╇━━━━━━━━━━━━━━━╇━━━━━━━━━━━━━━╇━━━━━━━━━━━━━━┩\n",
       "│\u001b[36m \u001b[0m\u001b[36mFunction Duration\u001b[0m\u001b[36m \u001b[0m│\u001b[32m \u001b[0m\u001b[32m            -\u001b[0m\u001b[32m \u001b[0m│\u001b[33m \u001b[0m\u001b[33m4.75 seconds\u001b[0m\u001b[33m \u001b[0m│\u001b[35m \u001b[0m\u001b[35m4.75 seconds\u001b[0m\u001b[35m \u001b[0m│\n",
       "│\u001b[36m \u001b[0m\u001b[36mCPU Memory       \u001b[0m\u001b[36m \u001b[0m│\u001b[32m \u001b[0m\u001b[32m         - MB\u001b[0m\u001b[32m \u001b[0m│\u001b[33m \u001b[0m\u001b[33m    21.49 MB\u001b[0m\u001b[33m \u001b[0m│\u001b[35m \u001b[0m\u001b[35m    21.49 MB\u001b[0m\u001b[35m \u001b[0m│\n",
       "│\u001b[36m \u001b[0m\u001b[36mCUDA Memory      \u001b[0m\u001b[36m \u001b[0m│\u001b[32m \u001b[0m\u001b[32m      5.98 GB\u001b[0m\u001b[32m \u001b[0m│\u001b[33m \u001b[0m\u001b[33m    -0.04 GB\u001b[0m\u001b[33m \u001b[0m│\u001b[35m \u001b[0m\u001b[35m     6.02 GB\u001b[0m\u001b[35m \u001b[0m│\n",
       "└───────────────────┴───────────────┴──────────────┴──────────────┘\n"
      ]
     },
     "metadata": {},
     "output_type": "display_data"
    },
    {
     "data": {
      "text/html": [
       "<pre style=\"white-space:pre;overflow-x:auto;line-height:normal;font-family:Menlo,'DejaVu Sans Mono',consolas,'Courier New',monospace\"><span style=\"font-style: italic\">                      Performance load_model                       </span>\n",
       "┏━━━━━━━━━━━━━━━━━━━┳━━━━━━━━━━━━━━━┳━━━━━━━━━━━━━━┳━━━━━━━━━━━━━━┓\n",
       "┃<span style=\"color: #af00ff; text-decoration-color: #af00ff; font-weight: bold\"> Metric            </span>┃<span style=\"color: #af00ff; text-decoration-color: #af00ff; font-weight: bold\"> Initial Value </span>┃<span style=\"color: #af00ff; text-decoration-color: #af00ff; font-weight: bold\"> Change Value </span>┃<span style=\"color: #af00ff; text-decoration-color: #af00ff; font-weight: bold\">  Final Value </span>┃\n",
       "┡━━━━━━━━━━━━━━━━━━━╇━━━━━━━━━━━━━━━╇━━━━━━━━━━━━━━╇━━━━━━━━━━━━━━┩\n",
       "│<span style=\"color: #008080; text-decoration-color: #008080\"> Function Duration </span>│<span style=\"color: #008000; text-decoration-color: #008000\">             - </span>│<span style=\"color: #808000; text-decoration-color: #808000\"> 0.01 seconds </span>│<span style=\"color: #800080; text-decoration-color: #800080\"> 0.01 seconds </span>│\n",
       "│<span style=\"color: #008080; text-decoration-color: #008080\"> CPU Memory        </span>│<span style=\"color: #008000; text-decoration-color: #008000\">          - MB </span>│<span style=\"color: #808000; text-decoration-color: #808000\">      0.22 MB </span>│<span style=\"color: #800080; text-decoration-color: #800080\">      0.22 MB </span>│\n",
       "│<span style=\"color: #008080; text-decoration-color: #008080\"> CUDA Memory       </span>│<span style=\"color: #008000; text-decoration-color: #008000\">       6.02 GB </span>│<span style=\"color: #808000; text-decoration-color: #808000\">      0.00 GB </span>│<span style=\"color: #800080; text-decoration-color: #800080\">      6.02 GB </span>│\n",
       "└───────────────────┴───────────────┴──────────────┴──────────────┘\n",
       "</pre>\n"
      ],
      "text/plain": [
       "\u001b[3m                      Performance load_model                       \u001b[0m\n",
       "┏━━━━━━━━━━━━━━━━━━━┳━━━━━━━━━━━━━━━┳━━━━━━━━━━━━━━┳━━━━━━━━━━━━━━┓\n",
       "┃\u001b[1;38;5;129m \u001b[0m\u001b[1;38;5;129mMetric           \u001b[0m\u001b[1;38;5;129m \u001b[0m┃\u001b[1;38;5;129m \u001b[0m\u001b[1;38;5;129mInitial Value\u001b[0m\u001b[1;38;5;129m \u001b[0m┃\u001b[1;38;5;129m \u001b[0m\u001b[1;38;5;129mChange Value\u001b[0m\u001b[1;38;5;129m \u001b[0m┃\u001b[1;38;5;129m \u001b[0m\u001b[1;38;5;129m Final Value\u001b[0m\u001b[1;38;5;129m \u001b[0m┃\n",
       "┡━━━━━━━━━━━━━━━━━━━╇━━━━━━━━━━━━━━━╇━━━━━━━━━━━━━━╇━━━━━━━━━━━━━━┩\n",
       "│\u001b[36m \u001b[0m\u001b[36mFunction Duration\u001b[0m\u001b[36m \u001b[0m│\u001b[32m \u001b[0m\u001b[32m            -\u001b[0m\u001b[32m \u001b[0m│\u001b[33m \u001b[0m\u001b[33m0.01 seconds\u001b[0m\u001b[33m \u001b[0m│\u001b[35m \u001b[0m\u001b[35m0.01 seconds\u001b[0m\u001b[35m \u001b[0m│\n",
       "│\u001b[36m \u001b[0m\u001b[36mCPU Memory       \u001b[0m\u001b[36m \u001b[0m│\u001b[32m \u001b[0m\u001b[32m         - MB\u001b[0m\u001b[32m \u001b[0m│\u001b[33m \u001b[0m\u001b[33m     0.22 MB\u001b[0m\u001b[33m \u001b[0m│\u001b[35m \u001b[0m\u001b[35m     0.22 MB\u001b[0m\u001b[35m \u001b[0m│\n",
       "│\u001b[36m \u001b[0m\u001b[36mCUDA Memory      \u001b[0m\u001b[36m \u001b[0m│\u001b[32m \u001b[0m\u001b[32m      6.02 GB\u001b[0m\u001b[32m \u001b[0m│\u001b[33m \u001b[0m\u001b[33m     0.00 GB\u001b[0m\u001b[33m \u001b[0m│\u001b[35m \u001b[0m\u001b[35m     6.02 GB\u001b[0m\u001b[35m \u001b[0m│\n",
       "└───────────────────┴───────────────┴──────────────┴──────────────┘\n"
      ]
     },
     "metadata": {},
     "output_type": "display_data"
    },
    {
     "data": {
      "text/html": [
       "<pre style=\"white-space:pre;overflow-x:auto;line-height:normal;font-family:Menlo,'DejaVu Sans Mono',consolas,'Courier New',monospace\"><span style=\"font-style: italic\">                      Performance load_cache                       </span>\n",
       "┏━━━━━━━━━━━━━━━━━━━┳━━━━━━━━━━━━━━━┳━━━━━━━━━━━━━━┳━━━━━━━━━━━━━━┓\n",
       "┃<span style=\"color: #af00ff; text-decoration-color: #af00ff; font-weight: bold\"> Metric            </span>┃<span style=\"color: #af00ff; text-decoration-color: #af00ff; font-weight: bold\"> Initial Value </span>┃<span style=\"color: #af00ff; text-decoration-color: #af00ff; font-weight: bold\"> Change Value </span>┃<span style=\"color: #af00ff; text-decoration-color: #af00ff; font-weight: bold\">  Final Value </span>┃\n",
       "┡━━━━━━━━━━━━━━━━━━━╇━━━━━━━━━━━━━━━╇━━━━━━━━━━━━━━╇━━━━━━━━━━━━━━┩\n",
       "│<span style=\"color: #008080; text-decoration-color: #008080\"> Function Duration </span>│<span style=\"color: #008000; text-decoration-color: #008000\">             - </span>│<span style=\"color: #808000; text-decoration-color: #808000\"> 7.28 seconds </span>│<span style=\"color: #800080; text-decoration-color: #800080\"> 7.28 seconds </span>│\n",
       "│<span style=\"color: #008080; text-decoration-color: #008080\"> CPU Memory        </span>│<span style=\"color: #008000; text-decoration-color: #008000\">          - MB </span>│<span style=\"color: #808000; text-decoration-color: #808000\">     24.30 MB </span>│<span style=\"color: #800080; text-decoration-color: #800080\">     24.30 MB </span>│\n",
       "│<span style=\"color: #008080; text-decoration-color: #008080\"> CUDA Memory       </span>│<span style=\"color: #008000; text-decoration-color: #008000\">       6.02 GB </span>│<span style=\"color: #808000; text-decoration-color: #808000\">      4.65 GB </span>│<span style=\"color: #800080; text-decoration-color: #800080\">      1.37 GB </span>│\n",
       "└───────────────────┴───────────────┴──────────────┴──────────────┘\n",
       "</pre>\n"
      ],
      "text/plain": [
       "\u001b[3m                      Performance load_cache                       \u001b[0m\n",
       "┏━━━━━━━━━━━━━━━━━━━┳━━━━━━━━━━━━━━━┳━━━━━━━━━━━━━━┳━━━━━━━━━━━━━━┓\n",
       "┃\u001b[1;38;5;129m \u001b[0m\u001b[1;38;5;129mMetric           \u001b[0m\u001b[1;38;5;129m \u001b[0m┃\u001b[1;38;5;129m \u001b[0m\u001b[1;38;5;129mInitial Value\u001b[0m\u001b[1;38;5;129m \u001b[0m┃\u001b[1;38;5;129m \u001b[0m\u001b[1;38;5;129mChange Value\u001b[0m\u001b[1;38;5;129m \u001b[0m┃\u001b[1;38;5;129m \u001b[0m\u001b[1;38;5;129m Final Value\u001b[0m\u001b[1;38;5;129m \u001b[0m┃\n",
       "┡━━━━━━━━━━━━━━━━━━━╇━━━━━━━━━━━━━━━╇━━━━━━━━━━━━━━╇━━━━━━━━━━━━━━┩\n",
       "│\u001b[36m \u001b[0m\u001b[36mFunction Duration\u001b[0m\u001b[36m \u001b[0m│\u001b[32m \u001b[0m\u001b[32m            -\u001b[0m\u001b[32m \u001b[0m│\u001b[33m \u001b[0m\u001b[33m7.28 seconds\u001b[0m\u001b[33m \u001b[0m│\u001b[35m \u001b[0m\u001b[35m7.28 seconds\u001b[0m\u001b[35m \u001b[0m│\n",
       "│\u001b[36m \u001b[0m\u001b[36mCPU Memory       \u001b[0m\u001b[36m \u001b[0m│\u001b[32m \u001b[0m\u001b[32m         - MB\u001b[0m\u001b[32m \u001b[0m│\u001b[33m \u001b[0m\u001b[33m    24.30 MB\u001b[0m\u001b[33m \u001b[0m│\u001b[35m \u001b[0m\u001b[35m    24.30 MB\u001b[0m\u001b[35m \u001b[0m│\n",
       "│\u001b[36m \u001b[0m\u001b[36mCUDA Memory      \u001b[0m\u001b[36m \u001b[0m│\u001b[32m \u001b[0m\u001b[32m      6.02 GB\u001b[0m\u001b[32m \u001b[0m│\u001b[33m \u001b[0m\u001b[33m     4.65 GB\u001b[0m\u001b[33m \u001b[0m│\u001b[35m \u001b[0m\u001b[35m     1.37 GB\u001b[0m\u001b[35m \u001b[0m│\n",
       "└───────────────────┴───────────────┴──────────────┴──────────────┘\n"
      ]
     },
     "metadata": {},
     "output_type": "display_data"
    },
    {
     "data": {
      "text/html": [
       "<pre style=\"white-space:pre;overflow-x:auto;line-height:normal;font-family:Menlo,'DejaVu Sans Mono',consolas,'Courier New',monospace\"><span style=\"font-style: italic\">                    Performance load_tokenizer                     </span>\n",
       "┏━━━━━━━━━━━━━━━━━━━┳━━━━━━━━━━━━━━━┳━━━━━━━━━━━━━━┳━━━━━━━━━━━━━━┓\n",
       "┃<span style=\"color: #af00ff; text-decoration-color: #af00ff; font-weight: bold\"> Metric            </span>┃<span style=\"color: #af00ff; text-decoration-color: #af00ff; font-weight: bold\"> Initial Value </span>┃<span style=\"color: #af00ff; text-decoration-color: #af00ff; font-weight: bold\"> Change Value </span>┃<span style=\"color: #af00ff; text-decoration-color: #af00ff; font-weight: bold\">  Final Value </span>┃\n",
       "┡━━━━━━━━━━━━━━━━━━━╇━━━━━━━━━━━━━━━╇━━━━━━━━━━━━━━╇━━━━━━━━━━━━━━┩\n",
       "│<span style=\"color: #008080; text-decoration-color: #008080\"> Function Duration </span>│<span style=\"color: #008000; text-decoration-color: #008000\">             - </span>│<span style=\"color: #808000; text-decoration-color: #808000\"> 2.60 seconds </span>│<span style=\"color: #800080; text-decoration-color: #800080\"> 2.60 seconds </span>│\n",
       "│<span style=\"color: #008080; text-decoration-color: #008080\"> CPU Memory        </span>│<span style=\"color: #008000; text-decoration-color: #008000\">          - MB </span>│<span style=\"color: #808000; text-decoration-color: #808000\">     49.61 MB </span>│<span style=\"color: #800080; text-decoration-color: #800080\">     49.61 MB </span>│\n",
       "│<span style=\"color: #008080; text-decoration-color: #008080\"> CUDA Memory       </span>│<span style=\"color: #008000; text-decoration-color: #008000\">       1.37 GB </span>│<span style=\"color: #808000; text-decoration-color: #808000\">      0.00 GB </span>│<span style=\"color: #800080; text-decoration-color: #800080\">      1.37 GB </span>│\n",
       "└───────────────────┴───────────────┴──────────────┴──────────────┘\n",
       "</pre>\n"
      ],
      "text/plain": [
       "\u001b[3m                    Performance load_tokenizer                     \u001b[0m\n",
       "┏━━━━━━━━━━━━━━━━━━━┳━━━━━━━━━━━━━━━┳━━━━━━━━━━━━━━┳━━━━━━━━━━━━━━┓\n",
       "┃\u001b[1;38;5;129m \u001b[0m\u001b[1;38;5;129mMetric           \u001b[0m\u001b[1;38;5;129m \u001b[0m┃\u001b[1;38;5;129m \u001b[0m\u001b[1;38;5;129mInitial Value\u001b[0m\u001b[1;38;5;129m \u001b[0m┃\u001b[1;38;5;129m \u001b[0m\u001b[1;38;5;129mChange Value\u001b[0m\u001b[1;38;5;129m \u001b[0m┃\u001b[1;38;5;129m \u001b[0m\u001b[1;38;5;129m Final Value\u001b[0m\u001b[1;38;5;129m \u001b[0m┃\n",
       "┡━━━━━━━━━━━━━━━━━━━╇━━━━━━━━━━━━━━━╇━━━━━━━━━━━━━━╇━━━━━━━━━━━━━━┩\n",
       "│\u001b[36m \u001b[0m\u001b[36mFunction Duration\u001b[0m\u001b[36m \u001b[0m│\u001b[32m \u001b[0m\u001b[32m            -\u001b[0m\u001b[32m \u001b[0m│\u001b[33m \u001b[0m\u001b[33m2.60 seconds\u001b[0m\u001b[33m \u001b[0m│\u001b[35m \u001b[0m\u001b[35m2.60 seconds\u001b[0m\u001b[35m \u001b[0m│\n",
       "│\u001b[36m \u001b[0m\u001b[36mCPU Memory       \u001b[0m\u001b[36m \u001b[0m│\u001b[32m \u001b[0m\u001b[32m         - MB\u001b[0m\u001b[32m \u001b[0m│\u001b[33m \u001b[0m\u001b[33m    49.61 MB\u001b[0m\u001b[33m \u001b[0m│\u001b[35m \u001b[0m\u001b[35m    49.61 MB\u001b[0m\u001b[35m \u001b[0m│\n",
       "│\u001b[36m \u001b[0m\u001b[36mCUDA Memory      \u001b[0m\u001b[36m \u001b[0m│\u001b[32m \u001b[0m\u001b[32m      1.37 GB\u001b[0m\u001b[32m \u001b[0m│\u001b[33m \u001b[0m\u001b[33m     0.00 GB\u001b[0m\u001b[33m \u001b[0m│\u001b[35m \u001b[0m\u001b[35m     1.37 GB\u001b[0m\u001b[35m \u001b[0m│\n",
       "└───────────────────┴───────────────┴──────────────┴──────────────┘\n"
      ]
     },
     "metadata": {},
     "output_type": "display_data"
    },
    {
     "data": {
      "text/html": [
       "<pre style=\"white-space:pre;overflow-x:auto;line-height:normal;font-family:Menlo,'DejaVu Sans Mono',consolas,'Courier New',monospace\">Free memory: <span style=\"color: #ff0000; text-decoration-color: #ff0000; font-weight: bold\">1.37</span><span style=\"color: #ff0000; text-decoration-color: #ff0000\"> GB</span>\n",
       "</pre>\n"
      ],
      "text/plain": [
       "Free memory: \u001b[1;91m1.37\u001b[0m\u001b[91m GB\u001b[0m\n"
      ]
     },
     "metadata": {},
     "output_type": "display_data"
    },
    {
     "data": {
      "text/html": [
       "<pre style=\"white-space:pre;overflow-x:auto;line-height:normal;font-family:Menlo,'DejaVu Sans Mono',consolas,'Courier New',monospace\">Free memory: <span style=\"color: #00ff00; text-decoration-color: #00ff00; font-weight: bold\">5.87</span><span style=\"color: #00ff00; text-decoration-color: #00ff00\"> GB</span>\n",
       "</pre>\n"
      ],
      "text/plain": [
       "Free memory: \u001b[1;92m5.87\u001b[0m\u001b[92m GB\u001b[0m\n"
      ]
     },
     "metadata": {},
     "output_type": "display_data"
    }
   ],
   "source": [
    "from gai.lib.server.singleton_host import SingletonHost\n",
    "from gai.lib.common.utils import free_mem\n",
    "from rich.console import Console\n",
    "console=Console()\n",
    "\n",
    "config = {\n",
    "    \"type\": \"ttt\",\n",
    "    \"generator_name\": \"exllamav2-mistral7b\",\n",
    "    \"engine\": \"gai.ttt.server.GaiExLlamaV2\",\n",
    "    \"model_path\": \"models/exllamav2-mistral7b\",\n",
    "    \"model_basename\": \"model\",\n",
    "    \"max_seq_len\": 8192,\n",
    "    \"prompt_format\": \"mistral\",\n",
    "    \"hyperparameters\": {\n",
    "        \"temperature\": 0.85,\n",
    "        \"top_p\": 0.8,\n",
    "        \"top_k\": 50,\n",
    "        \"max_new_tokens\": 1000,\n",
    "    },\n",
    "    \"tool_choice\": \"auto\",\n",
    "    \"max_retries\": 5,\n",
    "    \"stop_conditions\": [\"<s>\", \"</s>\", \"user:\",\"\\n\\n\"],\n",
    "    \"no_flash_attn\":True,\n",
    "    \"seed\": None,\n",
    "    \"decode_special_tokens\": False,\n",
    "    \"module_name\": \"gai.ttt.server.gai_exllamav2\",\n",
    "    \"class_name\": \"GaiExLlamav2\",\n",
    "    \"init_args\": [],\n",
    "    \"init_kwargs\": {}\n",
    "}\n",
    "\n",
    "# before loading\n",
    "free_mem()\n",
    "try:\n",
    "    with SingletonHost.GetInstanceFromConfig(config) as host:\n",
    "\n",
    "        # after loading\n",
    "        free_mem()\n",
    "except Exception as e:\n",
    "    raise e\n",
    "finally:\n",
    "    # after disposal\n",
    "    free_mem()"
   ]
  },
  {
   "cell_type": "markdown",
   "metadata": {},
   "source": [
    "## 3. Completion"
   ]
  },
  {
   "cell_type": "markdown",
   "metadata": {},
   "source": [
    "### Startup"
   ]
  },
  {
   "cell_type": "code",
   "execution_count": 3,
   "metadata": {},
   "outputs": [
    {
     "data": {
      "text/html": [
       "<pre style=\"white-space:pre;overflow-x:auto;line-height:normal;font-family:Menlo,'DejaVu Sans Mono',consolas,'Courier New',monospace\">Free memory: <span style=\"color: #ff0000; text-decoration-color: #ff0000; font-weight: bold\">1.38</span><span style=\"color: #ff0000; text-decoration-color: #ff0000\"> GB</span>\n",
       "</pre>\n"
      ],
      "text/plain": [
       "Free memory: \u001b[1;91m1.38\u001b[0m\u001b[91m GB\u001b[0m\n"
      ]
     },
     "metadata": {},
     "output_type": "display_data"
    },
    {
     "data": {
      "text/plain": [
       "1.3845062255859375"
      ]
     },
     "execution_count": 3,
     "metadata": {},
     "output_type": "execute_result"
    }
   ],
   "source": [
    "host = SingletonHost.GetInstanceFromConfig(config, verbose=False)\n",
    "host.load()\n",
    "generator = host.generator\n",
    "free_mem()"
   ]
  },
  {
   "cell_type": "markdown",
   "metadata": {},
   "source": [
    "### a) Test streaming"
   ]
  },
  {
   "cell_type": "code",
   "execution_count": 4,
   "metadata": {},
   "outputs": [
    {
     "name": "stdout",
     "output_type": "stream",
     "text": [
      " Once upon a time, in a small village nestled between the mountains, lived a kind-hearted young woman named Maya. She was known for her exceptional skill in weaving intricate designs on cloth. One day, a mysterious stranger arrived in the village, seeking her help to weave a magical cloth that could heal the sick. Despite the challenges and threats from those who wished to claim the cloth for their own gain, Maya completed the cloth with courage and perseverance. In the end, the cloth healed the sick, and the stranger, who was actually a guardian angel, rewarded Maya by granting her a wish. Maya wished for the villagers' happiness and prosperity, and from that day forward, the village flourished like never before."
     ]
    }
   ],
   "source": [
    "response = host.generator.create(\n",
    "    messages=[{\"role\":\"user\",\"content\":\"Tell me a one paragraph story\"},\n",
    "                {\"role\":\"assistant\",\"content\":\"\"}],\n",
    "    stream=True)\n",
    "for message in response:\n",
    "    if message.choices[0].delta.content:\n",
    "        print(message.choices[0].delta.content, end=\"\", flush=True)\n",
    "   "
   ]
  },
  {
   "cell_type": "markdown",
   "metadata": {},
   "source": [
    "### b) Test generation"
   ]
  },
  {
   "cell_type": "code",
   "execution_count": 5,
   "metadata": {},
   "outputs": [
    {
     "name": "stdout",
     "output_type": "stream",
     "text": [
      " Once upon a time, in a small village nestled between the mountains, lived a kind-hearted and hardworking farmer named Tomas. Despite the harsh conditions, he worked tirelessly to tend to his crops and livestock. One day, a severe storm swept through the valley, destroying Tomas's home and crops. Devastated but not defeated, Tomas rallied the village together, and they rebuilt his home and replanted his fields. The villagers' unwavering support and Tomas's resilient spirit proved that even in the face of adversity, community and determination can help overcome the toughest challenges.\n"
     ]
    }
   ],
   "source": [
    "\n",
    "response = host.generator.create(\n",
    "    messages=[{\"role\":\"user\",\"content\":\"Tell me a one paragraph story\"},\n",
    "                {\"role\":\"assistant\",\"content\":\"\"}],\n",
    "    stream=False)\n",
    "print(response.choices[0].message.content)\n"
   ]
  },
  {
   "cell_type": "markdown",
   "metadata": {},
   "source": [
    "### c) Test Tool Calling"
   ]
  },
  {
   "cell_type": "code",
   "execution_count": 6,
   "metadata": {},
   "outputs": [
    {
     "name": "stdout",
     "output_type": "stream",
     "text": [
      "ChatCompletion(id='chatcmpl-109a250e-feb0-430a-a39b-946a109cebe9', choices=[Choice(finish_reason='tool_calls', index=0, logprobs=None, message=ChatCompletionMessage(content=None, refusal=None, role='assistant', function_call=None, tool_calls=[ChatCompletionMessageToolCall(id='call_c80da37d-8a6a-48f5-a6e1-2752915e2a12', function=Function(arguments='{\"search_query\": \"current time Singapore\"}', name='google'), type='function')]))], created=1723846895, model='exllamav2-mistral7b', object='chat.completion', service_tier=None, system_fingerprint=None, usage=CompletionUsage(completion_tokens=21, prompt_tokens=336, total_tokens=357))\n"
     ]
    }
   ],
   "source": [
    "messages = [\n",
    "    {\"role\":\"user\",\"content\":\"What is the current time in Singapore?\"},\n",
    "    {\"role\":\"assistant\",\"content\":\"\"}\n",
    "]\n",
    "tool_choice=\"required\"\n",
    "tools = [\n",
    "    {\n",
    "        \"type\": \"function\",\n",
    "        \"function\": {\n",
    "            \"name\": \"google\",\n",
    "            \"description\": \"The 'google' function is a powerful tool that allows the AI to gather external information from the internet using Google search. It can be invoked when the AI needs to answer a question or provide information that requires up-to-date, comprehensive, and diverse sources which are not inherently known by the AI. For instance, it can be used to find current date, current news, weather updates, latest sports scores, trending topics, specific facts, or even the current date and time. The usage of this tool should be considered when the user's query implies or explicitly requests recent or wide-ranging data, or when the AI's inherent knowledge base may not have the required or most current information. The 'search_query' parameter should be a concise and accurate representation of the information needed.\",\n",
    "            \"parameters\": {\n",
    "                \"type\": \"object\",\n",
    "                \"properties\": {\n",
    "                    \"search_query\": {\n",
    "                        \"type\": \"string\",\n",
    "                        \"description\": \"The search query to search google with. For example, to find the current date or time, use 'current date' or 'current time' respectively.\"\n",
    "                    }\n",
    "                },\n",
    "                \"required\": [\"search_query\"]\n",
    "            }\n",
    "        }\n",
    "    }\n",
    "]\n",
    "response = host.generator.create(\n",
    "    messages=messages,\n",
    "    tools=tools,\n",
    "    tool_choice=tool_choice,\n",
    "    stream=False)\n",
    "print(response)\n"
   ]
  },
  {
   "cell_type": "markdown",
   "metadata": {},
   "source": [
    "### d) Test Structured Output"
   ]
  },
  {
   "cell_type": "code",
   "execution_count": 7,
   "metadata": {},
   "outputs": [
    {
     "name": "stdout",
     "output_type": "stream",
     "text": [
      "ChatCompletion(id='chatcmpl-7966bf89-fef5-40c9-add3-2460fb6383cc', choices=[Choice(finish_reason='stop', index=0, logprobs=None, message=ChatCompletionMessage(content=' {\\n  \"title\": \"Foundation\",\\n  \"summary\": \"Foundation is a science fiction novel by Isaac Asimov, the first published in his Foundation Trilogy. It is a cycle of five interrelated short stories that tell the early story of the Foundation, an institute founded by psychohistorian Hari Seldon to preserve the best of galactic civilization after the collapse of the Galactic Empire.\",\\n  \"author\": \"Isaac Asimov\",\\n  \"published_year\": 1951\\n}', refusal=None, role='assistant', function_call=None, tool_calls=None))], created=1723846902, model='exllamav2-mistral7b', object='chat.completion', service_tier=None, system_fingerprint=None, usage=CompletionUsage(completion_tokens=116, prompt_tokens=257, total_tokens=373))\n"
     ]
    }
   ],
   "source": [
    "# Define Schema\n",
    "from pydantic import BaseModel\n",
    "class Book(BaseModel):\n",
    "    title: str\n",
    "    summary: str\n",
    "    author: str\n",
    "    published_year: int\n",
    "\n",
    "text = \"\"\"Foundation is a science fiction novel by American writer\n",
    "Isaac Asimov. It is the first published in his Foundation Trilogy (later\n",
    "expanded into the Foundation series). Foundation is a cycle of five\n",
    "interrelated short stories, first published as a single book by Gnome Press\n",
    "in 1951. Collectively they tell the early story of the Foundation,\n",
    "an institute founded by psychohistorian Hari Seldon to preserve the best\n",
    "of galactic civilization after the collapse of the Galactic Empire.\n",
    "\"\"\"\n",
    "response = host.generator.create(messages=[{'role':'user','content':text},{'role':'assistant','content':''}], \n",
    "    json_schema=Book.schema(),\n",
    "    stream=False\n",
    "    )\n",
    "print(response)\n"
   ]
  },
  {
   "cell_type": "markdown",
   "metadata": {},
   "source": [
    "### Teardown"
   ]
  },
  {
   "cell_type": "code",
   "execution_count": 10,
   "metadata": {},
   "outputs": [
    {
     "data": {
      "text/html": [
       "<pre style=\"white-space:pre;overflow-x:auto;line-height:normal;font-family:Menlo,'DejaVu Sans Mono',consolas,'Courier New',monospace\">Free memory: <span style=\"color: #00ff00; text-decoration-color: #00ff00; font-weight: bold\">5.88</span><span style=\"color: #00ff00; text-decoration-color: #00ff00\"> GB</span>\n",
       "</pre>\n"
      ],
      "text/plain": [
       "Free memory: \u001b[1;92m5.88\u001b[0m\u001b[92m GB\u001b[0m\n"
      ]
     },
     "metadata": {},
     "output_type": "display_data"
    },
    {
     "data": {
      "text/plain": [
       "5.8794403076171875"
      ]
     },
     "execution_count": 10,
     "metadata": {},
     "output_type": "execute_result"
    }
   ],
   "source": [
    "del host.generator.model\n",
    "del host.generator.cache\n",
    "del host.generator.tokenizer\n",
    "del host.generator\n",
    "import gc,torch\n",
    "gc.collect()\n",
    "torch.cuda.empty_cache()\n",
    "free_mem()"
   ]
  },
  {
   "cell_type": "markdown",
   "metadata": {},
   "source": [
    "---\n",
    "\n",
    "## 4. API Test\n",
    "\n",
    "**Instructions**:\n",
    "\n",
    "a) Press `F5` to start the API server.\n",
    "\n",
    "**Tests**:\n",
    "\n",
    "Run the following cells to test the API."
   ]
  },
  {
   "cell_type": "markdown",
   "metadata": {},
   "source": [
    "### a) Test Generating"
   ]
  },
  {
   "cell_type": "code",
   "execution_count": 12,
   "metadata": {},
   "outputs": [
    {
     "name": "stdout",
     "output_type": "stream",
     "text": [
      "{\"id\":\"chatcmpl-e842a513-c0f3-4858-a9ef-c4b63ae60ad1\",\"choices\":[{\"finish_reason\":\"stop\",\"index\":0,\"logprobs\":null,\"message\":{\"content\":\" Once upon a time, in a land far, far away, there was a magical kingdom named Eldoria. The kingdom was known for its beautiful landscapes, friendly inhabitants, and enchanted spells\",\"refusal\":null,\"role\":\"assistant\",\"function_call\":null,\"tool_calls\":null}}],\"created\":1723847508,\"model\":\"exllamav2-mistral7b\",\"object\":\"chat.completion\",\"service_tier\":null,\"system_fingerprint\":null,\"usage\":{\"completion_tokens\":44,\"prompt_tokens\":14,\"total_tokens\":58}}"
     ]
    }
   ],
   "source": [
    "%%bash\n",
    "curl -X POST \\\n",
    "    http://localhost:12031/gen/v1/chat/completions \\\n",
    "    -H 'Content-Type: application/json' \\\n",
    "    -s \\\n",
    "    -N \\\n",
    "    -d \"{\\\"model\\\":\\\"exllamav2-mistral7b\\\", \\\n",
    "        \\\"messages\\\": [ \\\n",
    "            {\\\"role\\\": \\\"user\\\",\\\"content\\\": \\\"Tell me a story.\\\"}, \\\n",
    "            {\\\"role\\\": \\\"assistant\\\",\\\"content\\\": \\\"\\\"} \\\n",
    "        ],\\\n",
    "        \\\"tool_choice\\\": \\\"none\\\"}\""
   ]
  },
  {
   "cell_type": "markdown",
   "metadata": {},
   "source": [
    "### b) Test Streaming"
   ]
  },
  {
   "cell_type": "code",
   "execution_count": 13,
   "metadata": {},
   "outputs": [
    {
     "name": "stdout",
     "output_type": "stream",
     "text": [
      "{\"id\": \"chatcmpl-bd5fcebb-d87b-4fb3-a2f2-0c468680c653\", \"choices\": [{\"delta\": {\"content\": \"\", \"function_call\": null, \"refusal\": null, \"role\": \"assistant\", \"tool_calls\": null}, \"finish_reason\": null, \"index\": 0, \"logprobs\": null}], \"created\": 1723847517, \"model\": \"exllamav2-mistral7b\", \"object\": \"chat.completion.chunk\", \"service_tier\": null, \"system_fingerprint\": null, \"usage\": null}\n",
      "{\"id\": \"chatcmpl-7af82ed0-b11d-4f56-929c-d4694ed64e18\", \"choices\": [{\"delta\": {\"content\": \" Once\", \"function_call\": null, \"refusal\": null, \"role\": null, \"tool_calls\": null}, \"finish_reason\": null, \"index\": 0, \"logprobs\": null}], \"created\": 1723847518, \"model\": \"exllamav2-mistral7b\", \"object\": \"chat.completion.chunk\", \"service_tier\": null, \"system_fingerprint\": null, \"usage\": null}\n",
      "{\"id\": \"chatcmpl-0e6ac458-4ccb-4fdc-a36e-d4b6101919ef\", \"choices\": [{\"delta\": {\"content\": \" upon\", \"function_call\": null, \"refusal\": null, \"role\": null, \"tool_calls\": null}, \"finish_reason\": null, \"index\": 0, \"logprobs\": null}], \"created\": 1723847518, \"model\": \"exllamav2-mistral7b\", \"object\": \"chat.completion.chunk\", \"service_tier\": null, \"system_fingerprint\": null, \"usage\": null}\n",
      "{\"id\": \"chatcmpl-664e4cba-982c-4113-a04f-62011271ad86\", \"choices\": [{\"delta\": {\"content\": \" a\", \"function_call\": null, \"refusal\": null, \"role\": null, \"tool_calls\": null}, \"finish_reason\": null, \"index\": 0, \"logprobs\": null}], \"created\": 1723847518, \"model\": \"exllamav2-mistral7b\", \"object\": \"chat.completion.chunk\", \"service_tier\": null, \"system_fingerprint\": null, \"usage\": null}\n",
      "{\"id\": \"chatcmpl-a8455a4a-08d8-448c-91f9-de6747432fb4\", \"choices\": [{\"delta\": {\"content\": \" time\", \"function_call\": null, \"refusal\": null, \"role\": null, \"tool_calls\": null}, \"finish_reason\": null, \"index\": 0, \"logprobs\": null}], \"created\": 1723847518, \"model\": \"exllamav2-mistral7b\", \"object\": \"chat.completion.chunk\", \"service_tier\": null, \"system_fingerprint\": null, \"usage\": null}\n",
      "{\"id\": \"chatcmpl-2fe7b9e2-3665-440a-832c-cc3d67eecde7\", \"choices\": [{\"delta\": {\"content\": \",\", \"function_call\": null, \"refusal\": null, \"role\": null, \"tool_calls\": null}, \"finish_reason\": null, \"index\": 0, \"logprobs\": null}], \"created\": 1723847518, \"model\": \"exllamav2-mistral7b\", \"object\": \"chat.completion.chunk\", \"service_tier\": null, \"system_fingerprint\": null, \"usage\": null}\n",
      "{\"id\": \"chatcmpl-c7a30f51-6b5b-4427-8fac-1f693022f696\", \"choices\": [{\"delta\": {\"content\": \" in\", \"function_call\": null, \"refusal\": null, \"role\": null, \"tool_calls\": null}, \"finish_reason\": null, \"index\": 0, \"logprobs\": null}], \"created\": 1723847518, \"model\": \"exllamav2-mistral7b\", \"object\": \"chat.completion.chunk\", \"service_tier\": null, \"system_fingerprint\": null, \"usage\": null}\n",
      "{\"id\": \"chatcmpl-58043541-ba51-4bbf-9d37-f099644a2e5a\", \"choices\": [{\"delta\": {\"content\": \" a\", \"function_call\": null, \"refusal\": null, \"role\": null, \"tool_calls\": null}, \"finish_reason\": null, \"index\": 0, \"logprobs\": null}], \"created\": 1723847518, \"model\": \"exllamav2-mistral7b\", \"object\": \"chat.completion.chunk\", \"service_tier\": null, \"system_fingerprint\": null, \"usage\": null}\n",
      "{\"id\": \"chatcmpl-64c95cd0-ba64-42e5-968f-10b452727c12\", \"choices\": [{\"delta\": {\"content\": \" land\", \"function_call\": null, \"refusal\": null, \"role\": null, \"tool_calls\": null}, \"finish_reason\": null, \"index\": 0, \"logprobs\": null}], \"created\": 1723847518, \"model\": \"exllamav2-mistral7b\", \"object\": \"chat.completion.chunk\", \"service_tier\": null, \"system_fingerprint\": null, \"usage\": null}\n",
      "{\"id\": \"chatcmpl-870366a5-883a-43d6-9645-47a8755a09b7\", \"choices\": [{\"delta\": {\"content\": \" far\", \"function_call\": null, \"refusal\": null, \"role\": null, \"tool_calls\": null}, \"finish_reason\": null, \"index\": 0, \"logprobs\": null}], \"created\": 1723847518, \"model\": \"exllamav2-mistral7b\", \"object\": \"chat.completion.chunk\", \"service_tier\": null, \"system_fingerprint\": null, \"usage\": null}\n",
      "{\"id\": \"chatcmpl-c3e737f0-eed0-40a5-930c-ee2ce8dc2181\", \"choices\": [{\"delta\": {\"content\": \",\", \"function_call\": null, \"refusal\": null, \"role\": null, \"tool_calls\": null}, \"finish_reason\": null, \"index\": 0, \"logprobs\": null}], \"created\": 1723847518, \"model\": \"exllamav2-mistral7b\", \"object\": \"chat.completion.chunk\", \"service_tier\": null, \"system_fingerprint\": null, \"usage\": null}\n",
      "{\"id\": \"chatcmpl-d9e78bde-eb2a-4d77-bc9a-2fcf6aa14533\", \"choices\": [{\"delta\": {\"content\": \" far\", \"function_call\": null, \"refusal\": null, \"role\": null, \"tool_calls\": null}, \"finish_reason\": null, \"index\": 0, \"logprobs\": null}], \"created\": 1723847518, \"model\": \"exllamav2-mistral7b\", \"object\": \"chat.completion.chunk\", \"service_tier\": null, \"system_fingerprint\": null, \"usage\": null}\n",
      "{\"id\": \"chatcmpl-12b2eedf-d109-4280-8b7a-6d5f1a961061\", \"choices\": [{\"delta\": {\"content\": \" away\", \"function_call\": null, \"refusal\": null, \"role\": null, \"tool_calls\": null}, \"finish_reason\": null, \"index\": 0, \"logprobs\": null}], \"created\": 1723847518, \"model\": \"exllamav2-mistral7b\", \"object\": \"chat.completion.chunk\", \"service_tier\": null, \"system_fingerprint\": null, \"usage\": null}\n",
      "{\"id\": \"chatcmpl-40faac6f-59d1-4f41-90f0-3747c3189f42\", \"choices\": [{\"delta\": {\"content\": \",\", \"function_call\": null, \"refusal\": null, \"role\": null, \"tool_calls\": null}, \"finish_reason\": null, \"index\": 0, \"logprobs\": null}], \"created\": 1723847518, \"model\": \"exllamav2-mistral7b\", \"object\": \"chat.completion.chunk\", \"service_tier\": null, \"system_fingerprint\": null, \"usage\": null}\n",
      "{\"id\": \"chatcmpl-fd1b3d82-1b71-497b-8907-4e4cf02de6a2\", \"choices\": [{\"delta\": {\"content\": \" there\", \"function_call\": null, \"refusal\": null, \"role\": null, \"tool_calls\": null}, \"finish_reason\": null, \"index\": 0, \"logprobs\": null}], \"created\": 1723847518, \"model\": \"exllamav2-mistral7b\", \"object\": \"chat.completion.chunk\", \"service_tier\": null, \"system_fingerprint\": null, \"usage\": null}\n",
      "{\"id\": \"chatcmpl-a664ed25-98c4-4740-8f71-9e3a387cd7ad\", \"choices\": [{\"delta\": {\"content\": \" was\", \"function_call\": null, \"refusal\": null, \"role\": null, \"tool_calls\": null}, \"finish_reason\": null, \"index\": 0, \"logprobs\": null}], \"created\": 1723847518, \"model\": \"exllamav2-mistral7b\", \"object\": \"chat.completion.chunk\", \"service_tier\": null, \"system_fingerprint\": null, \"usage\": null}\n",
      "{\"id\": \"chatcmpl-a67d3c49-1eb8-4f52-9a20-f0b7be6cf46d\", \"choices\": [{\"delta\": {\"content\": \" a\", \"function_call\": null, \"refusal\": null, \"role\": null, \"tool_calls\": null}, \"finish_reason\": null, \"index\": 0, \"logprobs\": null}], \"created\": 1723847518, \"model\": \"exllamav2-mistral7b\", \"object\": \"chat.completion.chunk\", \"service_tier\": null, \"system_fingerprint\": null, \"usage\": null}\n",
      "{\"id\": \"chatcmpl-15209413-e7b5-43d0-b9c5-2710dc7b1a3f\", \"choices\": [{\"delta\": {\"content\": \" small\", \"function_call\": null, \"refusal\": null, \"role\": null, \"tool_calls\": null}, \"finish_reason\": null, \"index\": 0, \"logprobs\": null}], \"created\": 1723847518, \"model\": \"exllamav2-mistral7b\", \"object\": \"chat.completion.chunk\", \"service_tier\": null, \"system_fingerprint\": null, \"usage\": null}\n",
      "{\"id\": \"chatcmpl-92f27c8e-b14a-4d34-8f84-425bc188370b\", \"choices\": [{\"delta\": {\"content\": \" village\", \"function_call\": null, \"refusal\": null, \"role\": null, \"tool_calls\": null}, \"finish_reason\": null, \"index\": 0, \"logprobs\": null}], \"created\": 1723847518, \"model\": \"exllamav2-mistral7b\", \"object\": \"chat.completion.chunk\", \"service_tier\": null, \"system_fingerprint\": null, \"usage\": null}\n",
      "{\"id\": \"chatcmpl-ad368cf0-75d2-4766-a7c1-5e009ec8f541\", \"choices\": [{\"delta\": {\"content\": \" nest\", \"function_call\": null, \"refusal\": null, \"role\": null, \"tool_calls\": null}, \"finish_reason\": null, \"index\": 0, \"logprobs\": null}], \"created\": 1723847518, \"model\": \"exllamav2-mistral7b\", \"object\": \"chat.completion.chunk\", \"service_tier\": null, \"system_fingerprint\": null, \"usage\": null}\n",
      "{\"id\": \"chatcmpl-091877cd-1a1e-40c4-8a13-0badc6da1e06\", \"choices\": [{\"delta\": {\"content\": \"led\", \"function_call\": null, \"refusal\": null, \"role\": null, \"tool_calls\": null}, \"finish_reason\": null, \"index\": 0, \"logprobs\": null}], \"created\": 1723847518, \"model\": \"exllamav2-mistral7b\", \"object\": \"chat.completion.chunk\", \"service_tier\": null, \"system_fingerprint\": null, \"usage\": null}\n",
      "{\"id\": \"chatcmpl-f5f965d5-1299-4ccb-b0c3-1a2570368018\", \"choices\": [{\"delta\": {\"content\": \" between\", \"function_call\": null, \"refusal\": null, \"role\": null, \"tool_calls\": null}, \"finish_reason\": null, \"index\": 0, \"logprobs\": null}], \"created\": 1723847518, \"model\": \"exllamav2-mistral7b\", \"object\": \"chat.completion.chunk\", \"service_tier\": null, \"system_fingerprint\": null, \"usage\": null}\n",
      "{\"id\": \"chatcmpl-fed18af4-39ac-4507-90d3-e8a7975d379e\", \"choices\": [{\"delta\": {\"content\": \" a\", \"function_call\": null, \"refusal\": null, \"role\": null, \"tool_calls\": null}, \"finish_reason\": null, \"index\": 0, \"logprobs\": null}], \"created\": 1723847518, \"model\": \"exllamav2-mistral7b\", \"object\": \"chat.completion.chunk\", \"service_tier\": null, \"system_fingerprint\": null, \"usage\": null}\n",
      "{\"id\": \"chatcmpl-8d567899-9f85-47e1-9633-3ebbfbd9a2e2\", \"choices\": [{\"delta\": {\"content\": \" dense\", \"function_call\": null, \"refusal\": null, \"role\": null, \"tool_calls\": null}, \"finish_reason\": null, \"index\": 0, \"logprobs\": null}], \"created\": 1723847518, \"model\": \"exllamav2-mistral7b\", \"object\": \"chat.completion.chunk\", \"service_tier\": null, \"system_fingerprint\": null, \"usage\": null}\n",
      "{\"id\": \"chatcmpl-863c2823-85a5-45e2-9522-4a43a0a7b831\", \"choices\": [{\"delta\": {\"content\": \" forest\", \"function_call\": null, \"refusal\": null, \"role\": null, \"tool_calls\": null}, \"finish_reason\": null, \"index\": 0, \"logprobs\": null}], \"created\": 1723847518, \"model\": \"exllamav2-mistral7b\", \"object\": \"chat.completion.chunk\", \"service_tier\": null, \"system_fingerprint\": null, \"usage\": null}\n",
      "{\"id\": \"chatcmpl-e0e9a522-9d86-4e10-87f6-3450d13b447f\", \"choices\": [{\"delta\": {\"content\": \" and\", \"function_call\": null, \"refusal\": null, \"role\": null, \"tool_calls\": null}, \"finish_reason\": null, \"index\": 0, \"logprobs\": null}], \"created\": 1723847518, \"model\": \"exllamav2-mistral7b\", \"object\": \"chat.completion.chunk\", \"service_tier\": null, \"system_fingerprint\": null, \"usage\": null}\n",
      "{\"id\": \"chatcmpl-95f2e3e1-388b-4da2-8a39-dae3e8e2911e\", \"choices\": [{\"delta\": {\"content\": \" a\", \"function_call\": null, \"refusal\": null, \"role\": null, \"tool_calls\": null}, \"finish_reason\": null, \"index\": 0, \"logprobs\": null}], \"created\": 1723847518, \"model\": \"exllamav2-mistral7b\", \"object\": \"chat.completion.chunk\", \"service_tier\": null, \"system_fingerprint\": null, \"usage\": null}\n",
      "{\"id\": \"chatcmpl-ef5f7761-d9fd-4788-b873-89f9fab3507d\", \"choices\": [{\"delta\": {\"content\": \" tow\", \"function_call\": null, \"refusal\": null, \"role\": null, \"tool_calls\": null}, \"finish_reason\": null, \"index\": 0, \"logprobs\": null}], \"created\": 1723847518, \"model\": \"exllamav2-mistral7b\", \"object\": \"chat.completion.chunk\", \"service_tier\": null, \"system_fingerprint\": null, \"usage\": null}\n",
      "{\"id\": \"chatcmpl-fe1dc132-cb2a-4e77-ae68-62aee449db79\", \"choices\": [{\"delta\": {\"content\": \"ering\", \"function_call\": null, \"refusal\": null, \"role\": null, \"tool_calls\": null}, \"finish_reason\": null, \"index\": 0, \"logprobs\": null}], \"created\": 1723847518, \"model\": \"exllamav2-mistral7b\", \"object\": \"chat.completion.chunk\", \"service_tier\": null, \"system_fingerprint\": null, \"usage\": null}\n",
      "{\"id\": \"chatcmpl-a422e90a-d5a7-4ddc-b7f7-9247282279bb\", \"choices\": [{\"delta\": {\"content\": \" mountain\", \"function_call\": null, \"refusal\": null, \"role\": null, \"tool_calls\": null}, \"finish_reason\": null, \"index\": 0, \"logprobs\": null}], \"created\": 1723847518, \"model\": \"exllamav2-mistral7b\", \"object\": \"chat.completion.chunk\", \"service_tier\": null, \"system_fingerprint\": null, \"usage\": null}\n",
      "{\"id\": \"chatcmpl-ae65633d-9f16-426e-944f-5aa688bc4e77\", \"choices\": [{\"delta\": {\"content\": \". The\", \"function_call\": null, \"refusal\": null, \"role\": null, \"tool_calls\": null}, \"finish_reason\": null, \"index\": 0, \"logprobs\": null}], \"created\": 1723847519, \"model\": \"exllamav2-mistral7b\", \"object\": \"chat.completion.chunk\", \"service_tier\": null, \"system_fingerprint\": null, \"usage\": null}\n",
      "{\"id\": \"chatcmpl-78cf5aff-f359-4fcd-b50f-e009e680cf6e\", \"choices\": [{\"delta\": {\"content\": \" vill\", \"function_call\": null, \"refusal\": null, \"role\": null, \"tool_calls\": null}, \"finish_reason\": null, \"index\": 0, \"logprobs\": null}], \"created\": 1723847519, \"model\": \"exllamav2-mistral7b\", \"object\": \"chat.completion.chunk\", \"service_tier\": null, \"system_fingerprint\": null, \"usage\": null}\n",
      "{\"id\": \"chatcmpl-ad514842-2ee3-4d58-bf09-f2bfae1d09a6\", \"choices\": [{\"delta\": {\"content\": \"agers\", \"function_call\": null, \"refusal\": null, \"role\": null, \"tool_calls\": null}, \"finish_reason\": null, \"index\": 0, \"logprobs\": null}], \"created\": 1723847519, \"model\": \"exllamav2-mistral7b\", \"object\": \"chat.completion.chunk\", \"service_tier\": null, \"system_fingerprint\": null, \"usage\": null}\n",
      "{\"id\": \"chatcmpl-75f7089d-5f76-425a-94b7-41a923ba1e88\", \"choices\": [{\"delta\": {\"content\": \" lived\", \"function_call\": null, \"refusal\": null, \"role\": null, \"tool_calls\": null}, \"finish_reason\": null, \"index\": 0, \"logprobs\": null}], \"created\": 1723847519, \"model\": \"exllamav2-mistral7b\", \"object\": \"chat.completion.chunk\", \"service_tier\": null, \"system_fingerprint\": null, \"usage\": null}\n",
      "{\"id\": \"chatcmpl-8d13ee36-1ffd-4897-ba0d-74c7a1127d92\", \"choices\": [{\"delta\": {\"content\": \" simple\", \"function_call\": null, \"refusal\": null, \"role\": null, \"tool_calls\": null}, \"finish_reason\": null, \"index\": 0, \"logprobs\": null}], \"created\": 1723847519, \"model\": \"exllamav2-mistral7b\", \"object\": \"chat.completion.chunk\", \"service_tier\": null, \"system_fingerprint\": null, \"usage\": null}\n",
      "{\"id\": \"chatcmpl-79421c32-3c6c-4e52-a97f-0040762e7955\", \"choices\": [{\"delta\": {\"content\": \" lives\", \"function_call\": null, \"refusal\": null, \"role\": null, \"tool_calls\": null}, \"finish_reason\": null, \"index\": 0, \"logprobs\": null}], \"created\": 1723847519, \"model\": \"exllamav2-mistral7b\", \"object\": \"chat.completion.chunk\", \"service_tier\": null, \"system_fingerprint\": null, \"usage\": null}\n",
      "{\"id\": \"chatcmpl-cbe80425-477d-48dc-b70e-53bff0e2f7ad\", \"choices\": [{\"delta\": {\"content\": \",\", \"function_call\": null, \"refusal\": null, \"role\": null, \"tool_calls\": null}, \"finish_reason\": null, \"index\": 0, \"logprobs\": null}], \"created\": 1723847519, \"model\": \"exllamav2-mistral7b\", \"object\": \"chat.completion.chunk\", \"service_tier\": null, \"system_fingerprint\": null, \"usage\": null}\n",
      "{\"id\": \"chatcmpl-f4740eed-9f2e-4937-8c86-438d06146300\", \"choices\": [{\"delta\": {\"content\": \" farming\", \"function_call\": null, \"refusal\": null, \"role\": null, \"tool_calls\": null}, \"finish_reason\": null, \"index\": 0, \"logprobs\": null}], \"created\": 1723847519, \"model\": \"exllamav2-mistral7b\", \"object\": \"chat.completion.chunk\", \"service_tier\": null, \"system_fingerprint\": null, \"usage\": null}\n",
      "{\"id\": \"chatcmpl-092f61f7-0fe0-456a-aa91-a65715836d26\", \"choices\": [{\"delta\": {\"content\": \" the\", \"function_call\": null, \"refusal\": null, \"role\": null, \"tool_calls\": null}, \"finish_reason\": null, \"index\": 0, \"logprobs\": null}], \"created\": 1723847519, \"model\": \"exllamav2-mistral7b\", \"object\": \"chat.completion.chunk\", \"service_tier\": null, \"system_fingerprint\": null, \"usage\": null}\n",
      "{\"id\": \"chatcmpl-c39fafb8-d42c-4f86-b603-6c83fba197e5\", \"choices\": [{\"delta\": {\"content\": \" nearby\", \"function_call\": null, \"refusal\": null, \"role\": null, \"tool_calls\": null}, \"finish_reason\": null, \"index\": 0, \"logprobs\": null}], \"created\": 1723847519, \"model\": \"exllamav2-mistral7b\", \"object\": \"chat.completion.chunk\", \"service_tier\": null, \"system_fingerprint\": null, \"usage\": null}\n",
      "{\"id\": \"chatcmpl-9ed07bb8-6af1-48a3-a406-a77149f1dd85\", \"choices\": [{\"delta\": {\"content\": \" fields\", \"function_call\": null, \"refusal\": null, \"role\": null, \"tool_calls\": null}, \"finish_reason\": null, \"index\": 0, \"logprobs\": null}], \"created\": 1723847519, \"model\": \"exllamav2-mistral7b\", \"object\": \"chat.completion.chunk\", \"service_tier\": null, \"system_fingerprint\": null, \"usage\": null}\n",
      "{\"id\": \"chatcmpl-c025b0b7-90c1-4e31-8a18-c2433ad0646e\", \"choices\": [{\"delta\": {\"content\": \" and\", \"function_call\": null, \"refusal\": null, \"role\": null, \"tool_calls\": null}, \"finish_reason\": null, \"index\": 0, \"logprobs\": null}], \"created\": 1723847519, \"model\": \"exllamav2-mistral7b\", \"object\": \"chat.completion.chunk\", \"service_tier\": null, \"system_fingerprint\": null, \"usage\": null}\n",
      "{\"id\": \"chatcmpl-44ba9e27-df29-4b76-9feb-287483b8b9b1\", \"choices\": [{\"delta\": {\"content\": \" t\", \"function_call\": null, \"refusal\": null, \"role\": null, \"tool_calls\": null}, \"finish_reason\": null, \"index\": 0, \"logprobs\": null}], \"created\": 1723847519, \"model\": \"exllamav2-mistral7b\", \"object\": \"chat.completion.chunk\", \"service_tier\": null, \"system_fingerprint\": null, \"usage\": null}\n",
      "{\"id\": \"chatcmpl-9ee53e0a-ab5c-4b8f-b4bf-0b0f9d5b8646\", \"choices\": [{\"delta\": {\"content\": \"ending\", \"function_call\": null, \"refusal\": null, \"role\": null, \"tool_calls\": null}, \"finish_reason\": null, \"index\": 0, \"logprobs\": null}], \"created\": 1723847519, \"model\": \"exllamav2-mistral7b\", \"object\": \"chat.completion.chunk\", \"service_tier\": null, \"system_fingerprint\": null, \"usage\": null}\n",
      "{\"id\": \"chatcmpl-fdf4dc3e-4cd5-43d0-8b64-2bf71a9bfff9\", \"choices\": [{\"delta\": {\"content\": \" to\", \"function_call\": null, \"refusal\": null, \"role\": null, \"tool_calls\": null}, \"finish_reason\": null, \"index\": 0, \"logprobs\": null}], \"created\": 1723847519, \"model\": \"exllamav2-mistral7b\", \"object\": \"chat.completion.chunk\", \"service_tier\": null, \"system_fingerprint\": null, \"usage\": null}\n",
      "{\"id\": \"chatcmpl-f1df2751-f6d4-45e1-aa85-cc83c0e3fc8e\", \"choices\": [{\"delta\": {\"content\": \" their\", \"function_call\": null, \"refusal\": null, \"role\": null, \"tool_calls\": null}, \"finish_reason\": null, \"index\": 0, \"logprobs\": null}], \"created\": 1723847519, \"model\": \"exllamav2-mistral7b\", \"object\": \"chat.completion.chunk\", \"service_tier\": null, \"system_fingerprint\": null, \"usage\": null}\n",
      "{\"id\": \"chatcmpl-f59a9058-bd63-4757-aa79-b0dd72634d99\", \"choices\": [{\"delta\": {\"content\": \" liv\", \"function_call\": null, \"refusal\": null, \"role\": null, \"tool_calls\": null}, \"finish_reason\": null, \"index\": 0, \"logprobs\": null}], \"created\": 1723847519, \"model\": \"exllamav2-mistral7b\", \"object\": \"chat.completion.chunk\", \"service_tier\": null, \"system_fingerprint\": null, \"usage\": null}\n",
      "{\"id\": \"chatcmpl-c34501c9-7ea7-4790-a480-83613abe4bdd\", \"choices\": [{\"delta\": {\"content\": \"est\", \"function_call\": null, \"refusal\": null, \"role\": null, \"tool_calls\": null}, \"finish_reason\": null, \"index\": 0, \"logprobs\": null}], \"created\": 1723847519, \"model\": \"exllamav2-mistral7b\", \"object\": \"chat.completion.chunk\", \"service_tier\": null, \"system_fingerprint\": null, \"usage\": null}\n",
      "{\"id\": \"chatcmpl-ef00141f-311b-4888-9494-3e8a87bc78ca\", \"choices\": [{\"delta\": {\"content\": \"ock\", \"function_call\": null, \"refusal\": null, \"role\": null, \"tool_calls\": null}, \"finish_reason\": null, \"index\": 0, \"logprobs\": null}], \"created\": 1723847519, \"model\": \"exllamav2-mistral7b\", \"object\": \"chat.completion.chunk\", \"service_tier\": null, \"system_fingerprint\": null, \"usage\": null}\n",
      "{\"id\": \"chatcmpl-8f36ba11-2789-4d80-a8cc-37562180d9ba\", \"choices\": [{\"delta\": {\"content\": null, \"function_call\": null, \"refusal\": null, \"role\": null, \"tool_calls\": null}, \"finish_reason\": \"stop\", \"index\": 0, \"logprobs\": null}], \"created\": 1723847519, \"model\": \"exllamav2-mistral7b\", \"object\": \"chat.completion.chunk\", \"service_tier\": null, \"system_fingerprint\": null, \"usage\": null}\n"
     ]
    }
   ],
   "source": [
    "%%bash\n",
    "curl -X POST \\\n",
    "    http://localhost:12031/gen/v1/chat/completions \\\n",
    "    -H 'Content-Type: application/json' \\\n",
    "    -s \\\n",
    "    -N \\\n",
    "    -d \"{\\\"model\\\":\\\"exllamav2-mistral7b\\\", \\\n",
    "        \\\"messages\\\": [ \\\n",
    "            {\\\"role\\\": \\\"user\\\",\\\"content\\\": \\\"Tell me a story.\\\"}, \\\n",
    "            {\\\"role\\\": \\\"assistant\\\",\\\"content\\\": \\\"\\\"} \\\n",
    "        ],\\\n",
    "        \\\"stream\\\":true}\"\n"
   ]
  },
  {
   "cell_type": "markdown",
   "metadata": {},
   "source": [
    "### c) Test Tool Calling"
   ]
  },
  {
   "cell_type": "code",
   "execution_count": 14,
   "metadata": {},
   "outputs": [
    {
     "name": "stdout",
     "output_type": "stream",
     "text": [
      "{\"id\":\"chatcmpl-32da141c-f092-40f4-98ae-8758b0e41794\",\"choices\":[{\"finish_reason\":\"tool_calls\",\"index\":0,\"logprobs\":null,\"message\":{\"content\":null,\"refusal\":null,\"role\":\"assistant\",\"function_call\":null,\"tool_calls\":[{\"id\":\"call_9c91aa88-2bef-40b3-aae0-2c5ddd7d13cb\",\"function\":{\"arguments\":\"{\\\"search_query\\\": \\\"current time Singapore\\\"}\",\"name\":\"google\"},\"type\":\"function\"}]}}],\"created\":1723847533,\"model\":\"exllamav2-mistral7b\",\"object\":\"chat.completion\",\"service_tier\":null,\"system_fingerprint\":null,\"usage\":{\"completion_tokens\":21,\"prompt_tokens\":335,\"total_tokens\":356}}"
     ]
    }
   ],
   "source": [
    "%%bash\n",
    "curl -X POST \\\n",
    "    http://localhost:12031/gen/v1/chat/completions \\\n",
    "    -H 'Content-Type: application/json' \\\n",
    "    -s \\\n",
    "    -N \\\n",
    "    -d \"{\\\"model\\\":\\\"exllamav2-mistral7b\\\", \\\n",
    "        \\\"messages\\\": [ \\\n",
    "            {\\\"role\\\": \\\"user\\\",\\\"content\\\": \\\"What is the current time in Singapore\\\"}, \\\n",
    "            {\\\"role\\\": \\\"assistant\\\",\\\"content\\\": \\\"\\\"} \\\n",
    "        ],\\\n",
    "        \\\"tools\\\": [\\\n",
    "            {\\\n",
    "                \\\"type\\\": \\\"function\\\",\\\n",
    "                \\\"function\\\": {\\\n",
    "                    \\\"name\\\": \\\"google\\\",\\\n",
    "                    \\\"description\\\": \\\"The 'google' function is a powerful tool that allows the AI to gather external information from the internet using Google search. It can be invoked when the AI needs to answer a question or provide information that requires up-to-date, comprehensive, and diverse sources which are not inherently known by the AI. For instance, it can be used to find current date, current news, weather updates, latest sports scores, trending topics, specific facts, or even the current date and time. The usage of this tool should be considered when the user's query implies or explicitly requests recent or wide-ranging data, or when the AI's inherent knowledge base may not have the required or most current information. The 'search_query' parameter should be a concise and accurate representation of the information needed.\\\",\\\n",
    "                    \\\"parameters\\\": {\\\n",
    "                        \\\"type\\\": \\\"object\\\",\\\n",
    "                        \\\"properties\\\": {\\\n",
    "                            \\\"search_query\\\": {\\\n",
    "                                \\\"type\\\": \\\"string\\\",\\\n",
    "                                \\\"description\\\": \\\"The search query to search google with. For example, to find the current date or time, use 'current date' or 'current time' respectively.\\\"\\\n",
    "                            }\\\n",
    "                        },\\\n",
    "                        \\\"required\\\": [\\\"search_query\\\"]\\\n",
    "                    }\\\n",
    "                }\\\n",
    "            }\\\n",
    "        ],\\\n",
    "        \\\"tool_choice\\\": \\\"required\\\"}\""
   ]
  },
  {
   "cell_type": "markdown",
   "metadata": {},
   "source": [
    "### d) Test JSON Schema"
   ]
  },
  {
   "cell_type": "code",
   "execution_count": 15,
   "metadata": {},
   "outputs": [
    {
     "name": "stdout",
     "output_type": "stream",
     "text": [
      "{\"id\":\"chatcmpl-257c7efd-79f2-49d4-850a-efb9ac036d2d\",\"choices\":[{\"finish_reason\":\"stop\",\"index\":0,\"logprobs\":null,\"message\":{\"content\":\" {\\n  \\\"title\\\": \\\"Foundation\\\",\\n  \\\"summary\\\": \\\"Foundation is a science fiction novel by Isaac Asimov, the first published in his Foundation Trilogy. It is a cycle of five interrelated short stories that tell the early story of the Foundation, an institute founded by psychohistorian Hari Seldon to preserve the best of galactic civilization after the collapse of the Galactic Empire.\\\",\\n  \\\"author\\\": \\\"Isaac Asimov\\\",\\n  \\\"published_year\\\": 1951\\n}\",\"refusal\":null,\"role\":\"assistant\",\"function_call\":null,\"tool_calls\":null}}],\"created\":1723847541,\"model\":\"exllamav2-mistral7b\",\"object\":\"chat.completion\",\"service_tier\":null,\"system_fingerprint\":null,\"usage\":{\"completion_tokens\":116,\"prompt_tokens\":253,\"total_tokens\":369}}"
     ]
    }
   ],
   "source": [
    "%%bash\n",
    "curl -X POST \\\n",
    "    http://localhost:12031/gen/v1/chat/completions \\\n",
    "    -H 'Content-Type: application/json' \\\n",
    "    -s \\\n",
    "    -N \\\n",
    "    -d \"{\\\"model\\\":\\\"exllamav2-mistral7b\\\", \\\n",
    "        \\\"messages\\\": [ \\\n",
    "            {\\\"role\\\": \\\"user\\\",\\\"content\\\": \\\"Foundation is a science fiction novel by American writer \\\n",
    "            Isaac Asimov. It is the first published in his Foundation Trilogy (later \\\n",
    "            expanded into the Foundation series). Foundation is a cycle of five \\\n",
    "            interrelated short stories, first published as a single book by Gnome Press \\\n",
    "            in 1951. Collectively they tell the early story of the Foundation, \\\n",
    "            an institute founded by psychohistorian Hari Seldon to preserve the best \\\n",
    "            of galactic civilization after the collapse of the Galactic Empire.\\\"}, \\\n",
    "            {\\\"role\\\": \\\"assistant\\\",\\\"content\\\": \\\"\\\"} \\\n",
    "        ],\\\n",
    "        \\\"json_schema\\\": {\\\"properties\\\": \\\n",
    "            {\\\"title\\\": \\\n",
    "                {\\\"title\\\": \\\"Title\\\", \\\"type\\\": \\\"string\\\"}, \\\n",
    "                    \\\"summary\\\": {\\\"title\\\": \\\"Summary\\\", \\\"type\\\": \\\"string\\\"}, \\\n",
    "                    \\\"author\\\": {\\\"title\\\": \\\"Author\\\", \\\n",
    "                    \\\"type\\\": \\\"string\\\"\\\n",
    "                }, \\\n",
    "                \\\"published_year\\\": {\\\n",
    "                    \\\"title\\\": \\\"Published Year\\\", \\\n",
    "                    \\\"type\\\": \\\"integer\\\"}}, \\\n",
    "                \\\"required\\\": [\\\n",
    "                    \\\"title\\\", \\\n",
    "                    \\\"summary\\\", \\\n",
    "                    \\\"author\\\", \\\n",
    "                    \\\"published_year\\\"\\\n",
    "                ], \\\n",
    "                \\\"title\\\": \\\"Book\\\", \\\n",
    "                \\\"type\\\": \\\"object\\\"\\\n",
    "            },\\\n",
    "        \\\"tool_choice\\\": \\\"none\\\"}\""
   ]
  },
  {
   "cell_type": "markdown",
   "metadata": {},
   "source": [
    "### e) Shut down the API Service"
   ]
  },
  {
   "cell_type": "markdown",
   "metadata": {},
   "source": [
    "## 5. Docker"
   ]
  },
  {
   "cell_type": "markdown",
   "metadata": {},
   "source": [
    "a) Open Visual Code\n",
    "\n",
    "b) Press `CTRL + SHIFT + P` and `Tasks: Run Task` > `build` and `run`\n",
    "\n",
    "c) Check the docker logs to confirm the model is ready.\n",
    "\n",
    "d) Repeat all the tests above."
   ]
  }
 ],
 "metadata": {
  "kernelspec": {
   "display_name": "gai-ttt-svr",
   "language": "python",
   "name": "python3"
  },
  "language_info": {
   "codemirror_mode": {
    "name": "ipython",
    "version": 3
   },
   "file_extension": ".py",
   "mimetype": "text/x-python",
   "name": "python",
   "nbconvert_exporter": "python",
   "pygments_lexer": "ipython3",
   "version": "3.10.10"
  }
 },
 "nbformat": 4,
 "nbformat_minor": 2
}
