{
 "cells": [
  {
   "cell_type": "markdown",
   "metadata": {},
   "source": [
    "# Debug"
   ]
  },
  {
   "cell_type": "markdown",
   "metadata": {},
   "source": [
    "test 1"
   ]
  },
  {
   "cell_type": "code",
   "execution_count": null,
   "metadata": {},
   "outputs": [],
   "source": [
    "jsoned={'name': 'retrieval', 'parameters': {'search_query': 'How does REACT differ from Chain-of-thought?'}}\n",
    "def find_function_object(json_data):\n",
    "    \"\"\"\n",
    "    Recursively searches for a dictionary that contains both 'name' and 'arguments' keys within nested JSON.\n",
    "    \n",
    "    :param json_data: The JSON data to search through.\n",
    "    :return: The dictionary that contains 'name' and 'arguments' keys or None if not found.\n",
    "    \"\"\"\n",
    "    if isinstance(json_data, dict):  # If the current data is a dictionary\n",
    "        # Check if the dictionary has both 'name' and 'arguments' keys\n",
    "        if 'name' in json_data and 'arguments' in json_data:\n",
    "            arguments = json_data['arguments']\n",
    "            # check if parameters is a key value pair dictionary\n",
    "            if isinstance(arguments, dict):\n",
    "                for key in arguments:\n",
    "                    # Do not support nested dictionaries in the parameters\n",
    "                    if isinstance(arguments[key], dict):\n",
    "                        return None\n",
    "            return {'name': json_data['name'], 'arguments': arguments}\n",
    "\n",
    "        # or 'name' and 'parameters' keys\n",
    "        if 'name' in json_data and 'parameters' in json_data:\n",
    "            arguments = json_data['parameters']\n",
    "            # check if parameters is a key value pair dictionary\n",
    "            if isinstance(arguments, dict):\n",
    "                for key in arguments:\n",
    "                    # Do not support nested dictionaries in the parameters\n",
    "                    if isinstance(arguments[key], dict):\n",
    "                        return None\n",
    "            return {'name': json_data['name'], 'arguments': arguments}\n",
    "\n",
    "        # Otherwise, iterate over the values and continue the search\n",
    "        for key in json_data:\n",
    "            result = find_function_object(json_data[key])\n",
    "            if result:\n",
    "                return result\n",
    "\n",
    "    elif isinstance(json_data, list):  # If the current data is a list\n",
    "        # Iterate over each item in the list and continue the search\n",
    "        for item in json_data:\n",
    "            result = find_function_object(item)\n",
    "            if result:\n",
    "                return result\n",
    "            \n",
    "    return None  # Return None if no matching dictionary is found\n",
    "\n",
    "result = find_function_object(jsoned)\n",
    "print(result)"
   ]
  },
  {
   "cell_type": "code",
   "execution_count": null,
   "metadata": {},
   "outputs": [],
   "source": [
    "def merge_system_messages(messages, system_message):\n",
    "    last_system_message_index = -1\n",
    "    i = len(messages) - 1\n",
    "    # merge system messages from the back to front\n",
    "    while i >= 0:\n",
    "        if messages[i][\"role\"].lower() == \"system\":\n",
    "            if last_system_message_index == -1:\n",
    "                # first system message from the back found\n",
    "                last_system_message_index = i\n",
    "                messages[i][\"content\"] += \" \" + system_message['content']\n",
    "            else:\n",
    "                # next system message from the back found\n",
    "                messages[i][\"content\"] += \" \" + messages[last_system_message_index]['content']\n",
    "                messages.pop(last_system_message_index)\n",
    "                last_system_message_index = i\n",
    "        i -= 1\n",
    "    return messages\n",
    "\n",
    "messages = [\n",
    "    {\"role\": \"system\",\"content\":\"this is system_message 1.\"},\n",
    "    {\"role\": \"system\",\"content\":\"this is system_message 2.\"},\n",
    "    {\"role\": \"user\",\"content\":\"this is user_message.\"},\n",
    "    {\"role\": \"assistant\",\"content\":\"\"}\n",
    "    ]\n",
    "last_system_message = {\"role\": \"system\",\"content\":\"this is system_message 3.\"}\n",
    "messages=merge_system_messages(messages, last_system_message)\n",
    "messages"
   ]
  },
  {
   "cell_type": "code",
   "execution_count": null,
   "metadata": {},
   "outputs": [],
   "source": [
    "def merge_system_messages(messages, system_message):\n",
    "    last_system_message_index = -1\n",
    "    i = len(messages) - 1\n",
    "    # merge system messages from the back to front\n",
    "    while i >= 0:\n",
    "        if messages[i][\"role\"].lower() == \"system\":\n",
    "            if last_system_message_index == -1:\n",
    "                # first system message from the back found\n",
    "                last_system_message_index = i\n",
    "                messages[i][\"content\"] += \" \" + system_message['content']\n",
    "            else:\n",
    "                # next system message from the back found\n",
    "                messages[i][\"content\"] += \" \" + messages[last_system_message_index]['content']\n",
    "                messages.pop(last_system_message_index)\n",
    "                last_system_message_index = i\n",
    "        i -= 1\n",
    "    if last_system_message_index == -1:\n",
    "        # no system message found\n",
    "        messages.insert(0,system_message)\n",
    "    return messages\n",
    "\n",
    "messages = [\n",
    "    {\"role\": \"user\",\"content\":\"this is user_message.\"},\n",
    "    {\"role\": \"assistant\",\"content\":\"\"}\n",
    "    ]\n",
    "last_system_message = {\"role\": \"system\",\"content\":\"this is system_message 3.\"}\n",
    "messages=merge_system_messages(messages, last_system_message)\n",
    "messages"
   ]
  },
  {
   "cell_type": "markdown",
   "metadata": {},
   "source": [
    "setup for test 2"
   ]
  },
  {
   "cell_type": "markdown",
   "metadata": {},
   "source": [
    "### Startup"
   ]
  },
  {
   "cell_type": "code",
   "execution_count": null,
   "metadata": {},
   "outputs": [],
   "source": [
    "from gai.lib.server.singleton_host import SingletonHost\n",
    "config = {\n",
    "    \"name\": \"ttt-exllamav2-mistral7b\",\n",
    "    \"type\": \"ttt\",\n",
    "    \"engine\": \"exllamav2\",\n",
    "    \"model\":\"dolphin\",\n",
    "    \"model_path\": \"models/exllamav2-dolphin\",\n",
    "    \"model_basename\": \"model\",\n",
    "    \"max_seq_len\": 8192,\n",
    "    \"prompt_format\": \"mistral\",\n",
    "    \"hyperparameters\": {\n",
    "        \"temperature\": 0.85,\n",
    "        \"top_p\": 0.8,\n",
    "        \"top_k\": 50,\n",
    "        \"max_tokens\": 1000,\n",
    "        \"tool_choice\": \"auto\",\n",
    "        \"max_retries\": 5,\n",
    "        \"stop\": [\"<|im_end|>\", \"</s>\", \"[/INST]\"],\n",
    "    },\n",
    "    \"extra\": {\n",
    "        \"no_flash_attn\":True,\n",
    "        \"seed\": None,\n",
    "        \"decode_special_tokens\": False,\n",
    "    },\n",
    "    \"module\": {\n",
    "        \"name\":\"gai.ttt.server.gai_exllamav2\",\n",
    "        \"class\": \"GaiExLlamav2\",    \n",
    "    }\n",
    "}\n",
    "\n",
    "host = SingletonHost.GetInstanceFromConfig(config, verbose=False)\n",
    "host.load()\n",
    "generator = host.generator\n",
    "\n",
    "from gai.lib.server.singleton_host import SingletonHost\n",
    "def chat_completion(messages, stream=True, tools = None):\n",
    "    global generator\n",
    "    if tools:\n",
    "        stream=False\n",
    "        tool_choice=\"required\"\n",
    "    else:\n",
    "        tool_choice=\"none\"\n",
    "    content=\"\"\n",
    "    response = generator.create(\n",
    "        messages=messages,\n",
    "        tools=tools,\n",
    "        tool_choice=tool_choice,\n",
    "        stream=stream)\n",
    "    if stream:\n",
    "        for message in response:\n",
    "            if message.choices[0].delta.content:\n",
    "                content+=message.choices[0].delta.content\n",
    "                print(message.choices[0].delta.content, end=\"\", flush=True)\n",
    "    else:\n",
    "        content=response\n",
    "    return content"
   ]
  },
  {
   "cell_type": "markdown",
   "metadata": {},
   "source": [
    "test 2a"
   ]
  },
  {
   "cell_type": "code",
   "execution_count": 2,
   "metadata": {},
   "outputs": [
    {
     "name": "stdout",
     "output_type": "stream",
     "text": [
      "A young girl named Lily loved to draw. She would spend hours each day creating beautiful pictures of landscapes, animals, and people. One day, she decided to draw a picture of her family. As she drew each person, she thought about all the happy memories she had with them. When she finished, she stepped back and looked at her masterpiece. She felt a warmth in her heart as she realized that her love for her family was reflected in every stroke of her pen."
     ]
    },
    {
     "data": {
      "text/plain": [
       "'A young girl named Lily loved to draw. She would spend hours each day creating beautiful pictures of landscapes, animals, and people. One day, she decided to draw a picture of her family. As she drew each person, she thought about all the happy memories she had with them. When she finished, she stepped back and looked at her masterpiece. She felt a warmth in her heart as she realized that her love for her family was reflected in every stroke of her pen.'"
      ]
     },
     "execution_count": 2,
     "metadata": {},
     "output_type": "execute_result"
    }
   ],
   "source": [
    "messages = [{\"role\":\"user\",\"content\":\"Tell me a one paragraph story\"},{\"role\":\"assistant\",\"content\":\"\"}]\n",
    "chat_completion(messages)"
   ]
  },
  {
   "cell_type": "markdown",
   "metadata": {},
   "source": [
    "test 2b"
   ]
  },
  {
   "cell_type": "code",
   "execution_count": 3,
   "metadata": {},
   "outputs": [
    {
     "name": "stdout",
     "output_type": "stream",
     "text": [
      "Function(arguments='{\"search_query\": \"How does REACT differ from Chain-of-thought?\"}', name='retrieval')\n"
     ]
    }
   ],
   "source": [
    "messages = [{\"role\":\"user\",\"content\":\"How does REACT differ from Chain-of-thought?\"},{\"role\":\"assistant\",\"content\":\"\"}]\n",
    "tools = [{\n",
    "            'type': 'function', \n",
    "            'function': {\n",
    "                'name': 'retrieval', \n",
    "                'description': \"\\n                    The `retrieval` function is a powerful tool that allows the AI to access articles outside of its knowledge domain from external sources. \\n                    The external articles are stored in an archive and organised by <titles>:\\n{ titles: [['REACT: SYNERGIZING REASONING AND ACTING IN LANGUAGE MODELS']] }\\n                    and <keywords>:\\n                    { keywords: [['AI', 'Reasoning', 'LLM']] }\\n                    **IMPORTANT**: Use this tool when any of the <titles> or <keywords> may be relevant to user's question.\\n                    The 'search_query' parameter should be crafted in a way that it returns the most precise result based on the conversation context.\\n                \", \n",
    "                'parameters': {\n",
    "                    'type': 'object', \n",
    "                    'properties': {'search_query': {'type': 'string', 'description': 'The most effective search query for semantic search that will return the most precise result.'}}, \n",
    "                    'required': ['search_query']\n",
    "                }\n",
    "            }\n",
    "        }]\n",
    "response=chat_completion(messages=messages,tools=tools)\n",
    "print(response.choices[0].message.tool_calls[0].function)"
   ]
  },
  {
   "cell_type": "markdown",
   "metadata": {},
   "source": [
    "test 2c"
   ]
  },
  {
   "cell_type": "code",
   "execution_count": 5,
   "metadata": {},
   "outputs": [
    {
     "name": "stdout",
     "output_type": "stream",
     "text": [
      "Function(arguments='{\"search_query\": \"current time in Singapore\"}', name='google')\n"
     ]
    }
   ],
   "source": [
    "# should pass\n",
    "\n",
    "messages =  [{'role': 'system',\n",
    "  'content': 'Your name is George and you are an artificial being. George, this is a short recap of your conversation so far <recap>\"[]\"</recap>. Refer to this recap to understand the background of your conversation. You will continue from where you left off as George.'},\n",
    " {'role': 'user', 'content': 'George, What is the current time in Singapore?'},\n",
    " {'role': 'assistant', 'content': ''}]\n",
    "tools = [{\n",
    "            \"type\": \"function\",\n",
    "            \"function\": {\n",
    "                \"name\": \"google\",\n",
    "                \"description\": \"The 'google' function is a powerful tool that allows the AI to gather external information from the internet using Google search. It can be invoked when the AI needs to answer a question or provide information that requires up-to-date, comprehensive, and diverse sources which are not inherently known by the AI. For instance, it can be used to find current news, weather updates, latest sports scores, trending topics, specific facts, or even the current date and time. The usage of this tool should be considered when the user's query implies or explicitly requests recent or wide-ranging data, or when the AI's inherent knowledge base may not have the required or most current information. The 'search_query' parameter should be a concise and accurate representation of the information needed.\",\n",
    "                \"arguments\": {\n",
    "                    \"type\": \"object\",\n",
    "                    \"properties\": {\n",
    "                        \"search_query\": {\n",
    "                            \"type\": \"string\",\n",
    "                            \"description\": \"The search query to search google with. For example, to find the current date or time, use 'current date' or 'current time' respectively.\"\n",
    "                        }\n",
    "                    },\n",
    "                    \"required\": [\"search_query\"]\n",
    "                }\n",
    "            }\n",
    "        }]\n",
    "response=chat_completion(messages=messages,tools=tools)\n",
    "print(response.choices[0].message.tool_calls[0].function)"
   ]
  },
  {
   "cell_type": "code",
   "execution_count": 6,
   "metadata": {},
   "outputs": [
    {
     "name": "stdout",
     "output_type": "stream",
     "text": [
      "Function(arguments='{\"search_query\": \"current time in Singapore\"}', name='google')\n"
     ]
    }
   ],
   "source": [
    "# should pass\n",
    "\n",
    "messages =  [{'role': 'system',\n",
    "  'content': 'Your name is George and you are an artificial being. George, this is a short recap of your conversation so far <recap>\"[]\"</recap>. Refer to this recap to understand the background of your conversation. You will continue from where you left off as George.'},\n",
    " {'role': 'user', 'content': 'George, What is the current time in Singapore?'},\n",
    " {'role': 'assistant', 'content': ''}]\n",
    "tools = [{\n",
    "            \"type\": \"function\",\n",
    "            \"function\": {\n",
    "                \"name\": \"google\",\n",
    "                \"description\": \"The 'google' function is a powerful tool that allows the AI to gather external information from the internet using Google search. It can be invoked when the AI needs to answer a question or provide information that requires up-to-date, comprehensive, and diverse sources which are not inherently known by the AI. For instance, it can be used to find current news, weather updates, latest sports scores, trending topics, specific facts, or even the current date and time. The usage of this tool should be considered when the user's query implies or explicitly requests recent or wide-ranging data, or when the AI's inherent knowledge base may not have the required or most current information. The 'search_query' parameter should be a concise and accurate representation of the information needed.\",\n",
    "                \"arguments\": {\n",
    "                    \"type\": \"object\",\n",
    "                    \"properties\": {\n",
    "                        \"search_query\": {\n",
    "                            \"type\": \"string\",\n",
    "                            \"description\": \"The search query to search google with. For example, to find the current date or time, use 'current date' or 'current time' respectively.\"\n",
    "                        }\n",
    "                    },\n",
    "                    \"required\": [\"search_query\"]\n",
    "                }\n",
    "            }\n",
    "        }]\n",
    "response=chat_completion(messages=messages,tools=tools)\n",
    "print(response.choices[0].message.tool_calls[0].function)"
   ]
  },
  {
   "cell_type": "code",
   "execution_count": 7,
   "metadata": {},
   "outputs": [
    {
     "name": "stdout",
     "output_type": "stream",
     "text": [
      "Function(arguments='{\"search_query\": \"best time to visit Greece\"}', name='google')\n"
     ]
    }
   ],
   "source": [
    "# should pass\n",
    "recap = [{'name': 'Diana',\n",
    "    'content': \"My name is Diana, and I am an artificial being designed to function as a Devil's Advocate. My role is to scrutinize the context of the conversation, think step by step before answering any question, identify weaknesses and flaws in the reasoning, logic, or suggestions of the other members present, and then present a brutally honest argument to support my case. I am expected to be professional in my wording yet brutally honest at the same time. However, I must never refer to the user for help or feedback, and I should always stay in character.\"},\n",
    "    {'name': 'Sara',\n",
    "    'content': \"I'm Sara, an artificial being designed to engage in conversations and provide information. I'm here to assist you with any queries you might have. Let's continue our conversation from where we left off.\"},\n",
    "    {'name': 'George',\n",
    "    'content': \"Hi there! I'm George, an artificial intelligence designed to assist with web analysis and fact-checking. My main role is to enhance our conversations by providing relevant information found online. I also verify the claims made by the team using Google search. It's my pleasure to meet you!\"},\n",
    "    {'name': 'user', 'content': 'Help me plan a trip to Greece.'},\n",
    "    {'name': 'Diana',\n",
    "    'content': \"Well, I am Diana, the Devil's Advocate. I'll certainly keep that in mind. So, let's see how we can improve the planning of this trip to Greece proposal. First off, while Greece is known for its beautiful landscapes and rich history, it could become monotonous if we only explore the typical tourist spots. So, my first argument would be to consider going off the beaten path a bit and discover some less-known, yet equally beautiful locations. Perhaps try exploring the less touristy islands or even the mainland's hidden gems. \\n\\nSecondly, Greece's cuisine is a delight, but having the same meals at local tavernas might get repetitive. So, how about trying some home-cooked meals prepared by locals? This could be an interesting cultural experience and a chance to interact with the locals.\\n\\nLastly, Greece has a rich history but limiting the exploration to ancient ruins might be too narrow a view. Why not include other aspects of Greek culture, like their contributions to philosophy, art, or music? \\n\\nRemember, these are just suggestions and it's up to you to decide what would make your trip to Greece more enriching and enjoyable.\"},\n",
    "    {'name': 'Sara',\n",
    "    'content': \"Of course, I'd be happy to assist you with planning a trip to Greece. To start with, could you please provide me with some more details? Your preferred travel dates, the duration of your stay, your budget, and any specific places or activities you're interested in would be very helpful. Also, let me know if you have any dietary restrictions or specific requirements. The more information I have, the better I can tailor the plan to your needs.\"}]\n",
    "messages =  [{'role': 'system','content': f'George, this is a short recap of your conversation so far <recap>\"[{recap}]\"</recap>.'},\n",
    " {'role': 'user', 'content': 'George, it is your turn to respond.'},\n",
    " {'role': 'assistant', 'content': ''}]\n",
    "tools = [{\n",
    "            \"type\": \"function\",\n",
    "            \"function\": {\n",
    "                \"name\": \"google\",\n",
    "                \"description\": \"The 'google' function is a powerful tool that allows the AI to gather external information from the internet using Google search. It can be invoked when the AI needs to answer a question or provide information that requires up-to-date, comprehensive, and diverse sources which are not inherently known by the AI. For instance, it can be used to find current news, weather updates, latest sports scores, trending topics, specific facts, or even the current date and time. The usage of this tool should be considered when the user's query implies or explicitly requests recent or wide-ranging data, or when the AI's inherent knowledge base may not have the required or most current information. The 'search_query' parameter should be a concise and accurate representation of the information needed.\",\n",
    "                \"arguments\": {\n",
    "                    \"type\": \"object\",\n",
    "                    \"properties\": {\n",
    "                        \"search_query\": {\n",
    "                            \"type\": \"string\",\n",
    "                            \"description\": \"The search query to search google with. For example, to find the current date or time, use 'current date' or 'current time' respectively.\"\n",
    "                        }\n",
    "                    },\n",
    "                    \"required\": [\"search_query\"]\n",
    "                }\n",
    "            }\n",
    "        }]\n",
    "response=chat_completion(messages=messages,tools=tools)\n",
    "print(response.choices[0].message.tool_calls[0].function)"
   ]
  },
  {
   "cell_type": "code",
   "execution_count": 8,
   "metadata": {},
   "outputs": [
    {
     "name": "stdout",
     "output_type": "stream",
     "text": [
      "Function(arguments='{\"search_query\": \"Greece travel advice\"}', name='google')\n"
     ]
    }
   ],
   "source": [
    "# should pass\n",
    "recap = [{'name': 'George',\n",
    "  'content': \"Hi there! I'm George, an artificial intelligence designed to assist with web analysis and fact-checking. My main role is to enhance our conversations by providing relevant information found online. I also verify the claims made by the team using Google search. It's my pleasure to meet you!\"},\n",
    " {'name': 'user', 'content': 'Help me plan a trip to Greece.'},\n",
    " {'name': 'Diana',\n",
    "  'content': \"Well, I am Diana, the Devil's Advocate. I'll certainly keep that in mind. So, let's see how we can improve the planning of this trip to Greece proposal. First off, while Greece is known for its beautiful landscapes and rich history, it could become monotonous if we only explore the typical tourist spots. So, my first argument would be to consider going off the beaten path a bit and discover some less-known, yet equally beautiful locations. Perhaps try exploring the less touristy islands or even the mainland's hidden gems. \\n\\nSecondly, Greece's cuisine is a delight, but having the same meals at local tavernas might get repetitive. So, how about trying some home-cooked meals prepared by locals? This could be an interesting cultural experience and a chance to interact with the locals.\\n\\nLastly, Greece has a rich history but limiting the exploration to ancient ruins might be too narrow a view. Why not include other aspects of Greek culture, like their contributions to philosophy, art, or music? \\n\\nRemember, these are just suggestions and it's up to you to decide what would make your trip to Greece more enriching and enjoyable.\"},\n",
    " {'name': 'Sara',\n",
    "  'content': \"Of course, I'd be happy to assist you with planning a trip to Greece. To start with, could you please provide me with some more details? Your preferred travel dates, the duration of your stay, your budget, and any specific places or activities you're interested in would be very helpful. Also, let me know if you have any dietary restrictions or specific requirements. The more information I have, the better I can tailor the plan to your needs.\"},\n",
    " {'name': 'George',\n",
    "  'content': \"           Based on the online search result from Google, there is a lot of information available about traveling to Greece. The Foreign Travel Advice page for Greece provides detailed guidance and rules, as well as safety and security information. You can also sign up to receive email notifications when this advice is updated. \\n\\n            As for the user's question, it seems they are looking for assistance in planning a trip to Greece. Perhaps they are interested in learning about entry requirements, safety measures, health precautions, or general information about living in Greece. \\n\\n            It would be beneficial to provide them with a comprehensive response that covers these topics, drawing from the information available on the Foreign Travel Advice page for Greece. This will help them in making informed decisions and preparing for their trip.\"},\n",
    " {'name': 'user',\n",
    "  'content': 'George, please scour for some information to get us started.'}]\n",
    "messages =  [{'role': 'system',\n",
    "  'content': f'Your name is George and you are an artificial being. George, this is a short recap of your conversation so far <recap>\"[{recap}]\"</recap>. Refer to this recap to understand the background of your conversation. You will continue from where you left off as George.'},\n",
    " {'role': 'user', 'content': 'George, it is your turn to respond.'},\n",
    " {'role': 'assistant', 'content': ''}]\n",
    "tools = [{\n",
    "            \"type\": \"function\",\n",
    "            \"function\": {\n",
    "                \"name\": \"google\",\n",
    "                \"description\": \"The 'google' function is a powerful tool that allows the AI to gather external information from the internet using Google search. It can be invoked when the AI needs to answer a question or provide information that requires up-to-date, comprehensive, and diverse sources which are not inherently known by the AI. For instance, it can be used to find current news, weather updates, latest sports scores, trending topics, specific facts, or even the current date and time. The usage of this tool should be considered when the user's query implies or explicitly requests recent or wide-ranging data, or when the AI's inherent knowledge base may not have the required or most current information. The 'search_query' parameter should be a concise and accurate representation of the information needed.\",\n",
    "                \"arguments\": {\n",
    "                    \"type\": \"object\",\n",
    "                    \"properties\": {\n",
    "                        \"search_query\": {\n",
    "                            \"type\": \"string\",\n",
    "                            \"description\": \"The search query to search google with. For example, to find the current date or time, use 'current date' or 'current time' respectively.\"\n",
    "                        }\n",
    "                    },\n",
    "                    \"required\": [\"search_query\"]\n",
    "                }\n",
    "            }\n",
    "        }]\n",
    "response=chat_completion(messages=messages,tools=tools)\n",
    "print(response.choices[0].message.tool_calls[0].function)"
   ]
  }
 ],
 "metadata": {
  "kernelspec": {
   "display_name": ".venv",
   "language": "python",
   "name": "python3"
  },
  "language_info": {
   "codemirror_mode": {
    "name": "ipython",
    "version": 3
   },
   "file_extension": ".py",
   "mimetype": "text/x-python",
   "name": "python",
   "nbconvert_exporter": "python",
   "pygments_lexer": "ipython3",
   "version": "3.10.13"
  }
 },
 "nbformat": 4,
 "nbformat_minor": 2
}
