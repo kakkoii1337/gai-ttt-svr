{
 "cells": [
  {
   "cell_type": "markdown",
   "metadata": {},
   "source": [
    "## 1. Install"
   ]
  },
  {
   "cell_type": "markdown",
   "metadata": {},
   "source": [
    "Create conda env `gai-ttt-svr` and install gai-ttt-svr package. After that, switch the kernel to `gai-ttt-svr` before proceeding further.\n"
   ]
  },
  {
   "cell_type": "code",
   "execution_count": null,
   "metadata": {},
   "outputs": [],
   "source": [
    "%%bash\n",
    "conda create -n gai-ttt-svr python=3.10.10 -y\n",
    "eval \"$(conda shell.bash hook)\" && conda activate gai-ttt-svr\n",
    "cd ../..\n",
    "poetry install"
   ]
  },
  {
   "cell_type": "markdown",
   "metadata": {},
   "source": [
    "## 2. Load test configuration"
   ]
  },
  {
   "cell_type": "code",
   "execution_count": 1,
   "metadata": {},
   "outputs": [],
   "source": [
    "from gai.lib.server.singleton_host import SingletonHost\n",
    "from gai.lib.common.utils import free_mem\n",
    "from rich.console import Console\n",
    "console=Console()\n",
    "\n",
    "config = {\n",
    "    \"type\": \"ttt\",\n",
    "    \"generator_name\": \"exllamav2-mistral7b\",\n",
    "    \"engine\": \"gai.ttt.server.GaiExLlamaV2\",\n",
    "    \"model_path\": \"models/exllamav2-mistral7b\",\n",
    "    \"model_basename\": \"model\",\n",
    "    \"max_seq_len\": 8192,\n",
    "    \"prompt_format\": \"mistral\",\n",
    "    \"hyperparameters\": {\n",
    "        \"temperature\": 0.85,\n",
    "        \"top_p\": 0.8,\n",
    "        \"top_k\": 50,\n",
    "        \"max_new_tokens\": 1000,\n",
    "    },\n",
    "    \"tool_choice\": \"auto\",\n",
    "    \"max_retries\": 5,\n",
    "    \"stop_conditions\": [\"<s>\", \"</s>\", \"user:\",\"\\n\\n\"],\n",
    "    \"no_flash_attn\":True,\n",
    "    \"seed\": None,\n",
    "    \"decode_special_tokens\": False,\n",
    "    \"module_name\": \"gai.ttt.server.gai_exllamav2\",\n",
    "    \"class_name\": \"GaiExLlamav2\",\n",
    "    \"init_args\": [],\n",
    "    \"init_kwargs\": {}\n",
    "}"
   ]
  },
  {
   "cell_type": "markdown",
   "metadata": {},
   "source": [
    "## 3. Load Model Test"
   ]
  },
  {
   "cell_type": "code",
   "execution_count": 2,
   "metadata": {},
   "outputs": [
    {
     "data": {
      "text/html": [
       "<pre style=\"white-space:pre;overflow-x:auto;line-height:normal;font-family:Menlo,'DejaVu Sans Mono',consolas,'Courier New',monospace\">Free memory: <span style=\"color: #ff0000; text-decoration-color: #ff0000; font-weight: bold\">1.06</span><span style=\"color: #ff0000; text-decoration-color: #ff0000\"> GB</span>\n",
       "</pre>\n"
      ],
      "text/plain": [
       "Free memory: \u001b[1;91m1.06\u001b[0m\u001b[91m GB\u001b[0m\n"
      ]
     },
     "metadata": {},
     "output_type": "display_data"
    }
   ],
   "source": [
    "# before loading\n",
    "free_mem()\n",
    "try:\n",
    "    with SingletonHost.GetInstanceFromConfig(config) as host:\n",
    "        # The following initialization will take place each time a completion is created\n",
    "        host.generator.load_generator()\n",
    "        host.generator.initialize_job_state(messages=[\n",
    "            {\"role\":\"user\",\"content\":\"hello world\"},\n",
    "            {\"role\":\"assistant\",\"content\":\"\"}\n",
    "            ],stream=False)\n",
    "        host.generator.load_job()\n",
    "\n",
    "        # after loading\n",
    "        free_mem()\n",
    "except Exception as e:\n",
    "    raise e\n",
    "finally:\n",
    "    # after disposal\n",
    "    free_mem()\n",
    "    "
   ]
  },
  {
   "cell_type": "markdown",
   "metadata": {},
   "source": [
    "## 3. Completion"
   ]
  },
  {
   "cell_type": "markdown",
   "metadata": {},
   "source": [
    "### a) Test streaming"
   ]
  },
  {
   "cell_type": "code",
   "execution_count": 4,
   "metadata": {},
   "outputs": [
    {
     "name": "stdout",
     "output_type": "stream",
     "text": [
      " A young girl found a magic lamp and released a genie who granted her three wishes."
     ]
    },
    {
     "data": {
      "text/html": [
       "<pre style=\"white-space:pre;overflow-x:auto;line-height:normal;font-family:Menlo,'DejaVu Sans Mono',consolas,'Courier New',monospace\">Free memory: <span style=\"color: #00ff00; text-decoration-color: #00ff00; font-weight: bold\">5.72</span><span style=\"color: #00ff00; text-decoration-color: #00ff00\"> GB</span>\n",
       "</pre>\n"
      ],
      "text/plain": [
       "Free memory: \u001b[1;92m5.72\u001b[0m\u001b[92m GB\u001b[0m\n"
      ]
     },
     "metadata": {},
     "output_type": "display_data"
    }
   ],
   "source": [
    "try:\n",
    "    with SingletonHost.GetInstanceFromConfig(config, verbose=False) as host:\n",
    "        response = host.create(\n",
    "            messages=[{\"role\":\"user\",\"content\":\"Tell me a one sentence story\"},\n",
    "                      {\"role\":\"assistant\",\"content\":\"\"}],\n",
    "            stream=True)\n",
    "        for message in response:\n",
    "            if message.choices[0].delta.content:\n",
    "                print(message.choices[0].delta.content, end=\"\", flush=True)\n",
    "except Exception as e:\n",
    "    raise e\n",
    "finally:\n",
    "    # after disposal\n",
    "    free_mem()\n",
    "    "
   ]
  },
  {
   "cell_type": "markdown",
   "metadata": {},
   "source": [
    "### b) Test generation"
   ]
  },
  {
   "cell_type": "code",
   "execution_count": 5,
   "metadata": {},
   "outputs": [
    {
     "name": "stdout",
     "output_type": "stream",
     "text": [
      " Once upon a time, in a small village nestled between the mountains, lived a humble farmer named Tomas. Despite his simple life, Tomas was known for his kind heart and generous spirit. One day, a fierce storm swept through the valley, destroying Tomas's crops and leaving him with nothing to feed his family. Instead of giving up, Tomas rallied the villagers together, and they worked tirelessly to replant and rebuild. Their efforts paid off, and the village flourished once more. This tale serves as a reminder that even in the face of adversity, unity and resilience can lead to prosperity.\n"
     ]
    },
    {
     "data": {
      "text/html": [
       "<pre style=\"white-space:pre;overflow-x:auto;line-height:normal;font-family:Menlo,'DejaVu Sans Mono',consolas,'Courier New',monospace\">Free memory: <span style=\"color: #00ff00; text-decoration-color: #00ff00; font-weight: bold\">5.72</span><span style=\"color: #00ff00; text-decoration-color: #00ff00\"> GB</span>\n",
       "</pre>\n"
      ],
      "text/plain": [
       "Free memory: \u001b[1;92m5.72\u001b[0m\u001b[92m GB\u001b[0m\n"
      ]
     },
     "metadata": {},
     "output_type": "display_data"
    }
   ],
   "source": [
    "try:\n",
    "    with SingletonHost.GetInstanceFromConfig(config,verbose=False) as host:\n",
    "        response = host.create(\n",
    "            messages=[{\"role\":\"user\",\"content\":\"Tell me a one paragraph story\"},\n",
    "                      {\"role\":\"assistant\",\"content\":\"\"}],\n",
    "            stream=False)\n",
    "        print(response.choices[0].message.content)\n",
    "except Exception as e:\n",
    "    raise e\n",
    "finally:\n",
    "    # after disposal\n",
    "    free_mem()\n",
    "    "
   ]
  },
  {
   "cell_type": "markdown",
   "metadata": {},
   "source": [
    "### c) Test Tool Calling"
   ]
  },
  {
   "cell_type": "code",
   "execution_count": 6,
   "metadata": {},
   "outputs": [
    {
     "name": "stdout",
     "output_type": "stream",
     "text": [
      "ChatCompletion(id='chatcmpl-66dae288-b333-4287-a0ea-9634d8ec79be', choices=[Choice(finish_reason='tool_calls', index=0, logprobs=None, message=ChatCompletionMessage(content=None, refusal=None, role='assistant', function_call=None, tool_calls=[ChatCompletionMessageToolCall(id='call_fab3fcb1-cf25-4568-a507-f949eeeb294a', function=Function(arguments='{\"search_query\": \"current time Singapore\"}', name='google'), type='function')]))], created=1723390749, model='exllamav2-mistral7b', object='chat.completion', service_tier=None, system_fingerprint=None, usage=CompletionUsage(completion_tokens=21, prompt_tokens=336, total_tokens=357))\n"
     ]
    },
    {
     "data": {
      "text/html": [
       "<pre style=\"white-space:pre;overflow-x:auto;line-height:normal;font-family:Menlo,'DejaVu Sans Mono',consolas,'Courier New',monospace\">Free memory: <span style=\"color: #00ff00; text-decoration-color: #00ff00; font-weight: bold\">5.71</span><span style=\"color: #00ff00; text-decoration-color: #00ff00\"> GB</span>\n",
       "</pre>\n"
      ],
      "text/plain": [
       "Free memory: \u001b[1;92m5.71\u001b[0m\u001b[92m GB\u001b[0m\n"
      ]
     },
     "metadata": {},
     "output_type": "display_data"
    }
   ],
   "source": [
    "try:\n",
    "    with SingletonHost.GetInstanceFromConfig(config,verbose=False) as host:\n",
    "        messages = [\n",
    "            {\"role\":\"user\",\"content\":\"What is the current time in Singapore?\"},\n",
    "            {\"role\":\"assistant\",\"content\":\"\"}\n",
    "        ]\n",
    "        tool_choice=\"required\"\n",
    "        tools = [\n",
    "            {\n",
    "                \"type\": \"function\",\n",
    "                \"function\": {\n",
    "                    \"name\": \"google\",\n",
    "                    \"description\": \"The 'google' function is a powerful tool that allows the AI to gather external information from the internet using Google search. It can be invoked when the AI needs to answer a question or provide information that requires up-to-date, comprehensive, and diverse sources which are not inherently known by the AI. For instance, it can be used to find current date, current news, weather updates, latest sports scores, trending topics, specific facts, or even the current date and time. The usage of this tool should be considered when the user's query implies or explicitly requests recent or wide-ranging data, or when the AI's inherent knowledge base may not have the required or most current information. The 'search_query' parameter should be a concise and accurate representation of the information needed.\",\n",
    "                    \"parameters\": {\n",
    "                        \"type\": \"object\",\n",
    "                        \"properties\": {\n",
    "                            \"search_query\": {\n",
    "                                \"type\": \"string\",\n",
    "                                \"description\": \"The search query to search google with. For example, to find the current date or time, use 'current date' or 'current time' respectively.\"\n",
    "                            }\n",
    "                        },\n",
    "                        \"required\": [\"search_query\"]\n",
    "                    }\n",
    "                }\n",
    "            }\n",
    "        ]\n",
    "        response = host.create(\n",
    "            messages=messages,\n",
    "            tools=tools,\n",
    "            tool_choice=tool_choice,\n",
    "            stream=False)\n",
    "        print(response)\n",
    "except Exception as e:\n",
    "    raise e\n",
    "finally:\n",
    "    # after disposal\n",
    "    free_mem()\n"
   ]
  },
  {
   "cell_type": "markdown",
   "metadata": {},
   "source": [
    "## 4. API Service"
   ]
  },
  {
   "attachments": {
    "image.png": {
     "image/png": "[encoded data removed]"
    }
   },
   "cell_type": "markdown",
   "metadata": {},
   "source": [
    "Open Visual Code:\n",
    "\n",
    "    a) CTRL + SHIFT + P\n",
    "    b) Select \"Python: Select Interpreter\" > \"gai-ttt-svr\"\n",
    "\n",
    "    c) Click \"Debug\" on Activity Bar.\n",
    "    d) Choose \"Python Debugger: gai-ttt-server\" from the dropdown.\n",
    "    e) Click on F5 to start the server.\n",
    "\n",
    "![image.png](attachment:image.png)"
   ]
  },
  {
   "cell_type": "markdown",
   "metadata": {},
   "source": [
    "### a) Test Generating"
   ]
  },
  {
   "cell_type": "code",
   "execution_count": 1,
   "metadata": {},
   "outputs": [
    {
     "name": "stdout",
     "output_type": "stream",
     "text": [
      "{\"id\":\"chatcmpl-97caf423-01ff-4644-9877-cdc7ebad9ab1\",\"choices\":[{\"finish_reason\":\"stop\",\"index\":0,\"logprobs\":null,\"message\":{\"content\":\" Once upon a time, in a land far, far away, there was a small village nestled between rolling hills and a sparkling river. The villagers lived simple lives, farming the land and caring for their animals. However, the village was plagued by a terrible beast that lurked in the nearby forest. This beast would often sneak into the village at night, causing terror and destruction wherever it went\",\"refusal\":null,\"role\":\"assistant\",\"function_call\":null,\"tool_calls\":null}}],\"created\":1723475482,\"model\":\"exllamav2-mistral7b\",\"object\":\"chat.completion\",\"service_tier\":null,\"system_fingerprint\":null,\"usage\":{\"completion_tokens\":87,\"prompt_tokens\":14,\"total_tokens\":101}}"
     ]
    }
   ],
   "source": [
    "%%bash\n",
    "curl -X POST \\\n",
    "    http://localhost:12031/gen/v1/chat/completions \\\n",
    "    -H 'Content-Type: application/json' \\\n",
    "    -s \\\n",
    "    -N \\\n",
    "    -d \"{\\\"model\\\":\\\"exllamav2-mistral7b\\\", \\\n",
    "        \\\"messages\\\": [ \\\n",
    "            {\\\"role\\\": \\\"user\\\",\\\"content\\\": \\\"Tell me a story.\\\"}, \\\n",
    "            {\\\"role\\\": \\\"assistant\\\",\\\"content\\\": \\\"\\\"} \\\n",
    "        ],\\\n",
    "        \\\"tool_choice\\\": \\\"none\\\"}\""
   ]
  },
  {
   "cell_type": "markdown",
   "metadata": {},
   "source": [
    "### b) Test Streaming"
   ]
  },
  {
   "cell_type": "code",
   "execution_count": 2,
   "metadata": {},
   "outputs": [
    {
     "name": "stdout",
     "output_type": "stream",
     "text": [
      "{\"id\": \"chatcmpl-1d369a6b-7f52-4295-a52e-0ceea138f947\", \"choices\": [{\"delta\": {\"content\": \"\", \"function_call\": null, \"refusal\": null, \"role\": \"assistant\", \"tool_calls\": null}, \"finish_reason\": null, \"index\": 0, \"logprobs\": null}], \"created\": 1723475486, \"model\": \"exllamav2-mistral7b\", \"object\": \"chat.completion.chunk\", \"service_tier\": null, \"system_fingerprint\": null, \"usage\": null}\n",
      "{\"id\": \"chatcmpl-dd49dc88-4fa7-4550-a4b2-c3b781ddf0b1\", \"choices\": [{\"delta\": {\"content\": \" Once\", \"function_call\": null, \"refusal\": null, \"role\": null, \"tool_calls\": null}, \"finish_reason\": null, \"index\": 0, \"logprobs\": null}], \"created\": 1723475486, \"model\": \"exllamav2-mistral7b\", \"object\": \"chat.completion.chunk\", \"service_tier\": null, \"system_fingerprint\": null, \"usage\": null}\n",
      "{\"id\": \"chatcmpl-5293de86-bb6f-435f-b27b-fb245eb3ca7b\", \"choices\": [{\"delta\": {\"content\": \" upon\", \"function_call\": null, \"refusal\": null, \"role\": null, \"tool_calls\": null}, \"finish_reason\": null, \"index\": 0, \"logprobs\": null}], \"created\": 1723475486, \"model\": \"exllamav2-mistral7b\", \"object\": \"chat.completion.chunk\", \"service_tier\": null, \"system_fingerprint\": null, \"usage\": null}\n",
      "{\"id\": \"chatcmpl-e01da6be-1a92-4a8d-8cac-88d7f9504754\", \"choices\": [{\"delta\": {\"content\": \" a\", \"function_call\": null, \"refusal\": null, \"role\": null, \"tool_calls\": null}, \"finish_reason\": null, \"index\": 0, \"logprobs\": null}], \"created\": 1723475486, \"model\": \"exllamav2-mistral7b\", \"object\": \"chat.completion.chunk\", \"service_tier\": null, \"system_fingerprint\": null, \"usage\": null}\n",
      "{\"id\": \"chatcmpl-2d53e7d3-82ec-4dcd-9cd9-fa02a06480d6\", \"choices\": [{\"delta\": {\"content\": \" time\", \"function_call\": null, \"refusal\": null, \"role\": null, \"tool_calls\": null}, \"finish_reason\": null, \"index\": 0, \"logprobs\": null}], \"created\": 1723475486, \"model\": \"exllamav2-mistral7b\", \"object\": \"chat.completion.chunk\", \"service_tier\": null, \"system_fingerprint\": null, \"usage\": null}\n",
      "{\"id\": \"chatcmpl-dc5ac592-cbfe-4c3b-8c00-88d05e080fb1\", \"choices\": [{\"delta\": {\"content\": \",\", \"function_call\": null, \"refusal\": null, \"role\": null, \"tool_calls\": null}, \"finish_reason\": null, \"index\": 0, \"logprobs\": null}], \"created\": 1723475486, \"model\": \"exllamav2-mistral7b\", \"object\": \"chat.completion.chunk\", \"service_tier\": null, \"system_fingerprint\": null, \"usage\": null}\n",
      "{\"id\": \"chatcmpl-b5d418f8-4dcc-479f-966f-2b68aa7ce2e4\", \"choices\": [{\"delta\": {\"content\": \" in\", \"function_call\": null, \"refusal\": null, \"role\": null, \"tool_calls\": null}, \"finish_reason\": null, \"index\": 0, \"logprobs\": null}], \"created\": 1723475486, \"model\": \"exllamav2-mistral7b\", \"object\": \"chat.completion.chunk\", \"service_tier\": null, \"system_fingerprint\": null, \"usage\": null}\n",
      "{\"id\": \"chatcmpl-71de8e82-28cf-40c0-86aa-7d992bcd4b40\", \"choices\": [{\"delta\": {\"content\": \" a\", \"function_call\": null, \"refusal\": null, \"role\": null, \"tool_calls\": null}, \"finish_reason\": null, \"index\": 0, \"logprobs\": null}], \"created\": 1723475486, \"model\": \"exllamav2-mistral7b\", \"object\": \"chat.completion.chunk\", \"service_tier\": null, \"system_fingerprint\": null, \"usage\": null}\n",
      "{\"id\": \"chatcmpl-58dbc029-1c07-4795-b719-2ec955c3a956\", \"choices\": [{\"delta\": {\"content\": \" land\", \"function_call\": null, \"refusal\": null, \"role\": null, \"tool_calls\": null}, \"finish_reason\": null, \"index\": 0, \"logprobs\": null}], \"created\": 1723475486, \"model\": \"exllamav2-mistral7b\", \"object\": \"chat.completion.chunk\", \"service_tier\": null, \"system_fingerprint\": null, \"usage\": null}\n",
      "{\"id\": \"chatcmpl-dfede00c-f876-44bb-b3b7-0e3d37a7cd99\", \"choices\": [{\"delta\": {\"content\": \" far\", \"function_call\": null, \"refusal\": null, \"role\": null, \"tool_calls\": null}, \"finish_reason\": null, \"index\": 0, \"logprobs\": null}], \"created\": 1723475486, \"model\": \"exllamav2-mistral7b\", \"object\": \"chat.completion.chunk\", \"service_tier\": null, \"system_fingerprint\": null, \"usage\": null}\n",
      "{\"id\": \"chatcmpl-dee6b6a0-6be5-4da0-aaee-0df9d6b642e3\", \"choices\": [{\"delta\": {\"content\": \",\", \"function_call\": null, \"refusal\": null, \"role\": null, \"tool_calls\": null}, \"finish_reason\": null, \"index\": 0, \"logprobs\": null}], \"created\": 1723475486, \"model\": \"exllamav2-mistral7b\", \"object\": \"chat.completion.chunk\", \"service_tier\": null, \"system_fingerprint\": null, \"usage\": null}\n",
      "{\"id\": \"chatcmpl-5f00d5e0-9bfe-4ddf-aadc-85cf7f10bb3c\", \"choices\": [{\"delta\": {\"content\": \" far\", \"function_call\": null, \"refusal\": null, \"role\": null, \"tool_calls\": null}, \"finish_reason\": null, \"index\": 0, \"logprobs\": null}], \"created\": 1723475486, \"model\": \"exllamav2-mistral7b\", \"object\": \"chat.completion.chunk\", \"service_tier\": null, \"system_fingerprint\": null, \"usage\": null}\n",
      "{\"id\": \"chatcmpl-705367e7-fe44-429b-977f-57788e73ddca\", \"choices\": [{\"delta\": {\"content\": \" away\", \"function_call\": null, \"refusal\": null, \"role\": null, \"tool_calls\": null}, \"finish_reason\": null, \"index\": 0, \"logprobs\": null}], \"created\": 1723475486, \"model\": \"exllamav2-mistral7b\", \"object\": \"chat.completion.chunk\", \"service_tier\": null, \"system_fingerprint\": null, \"usage\": null}\n",
      "{\"id\": \"chatcmpl-398700ea-b6e1-4591-acf9-8abb0985c6a9\", \"choices\": [{\"delta\": {\"content\": \",\", \"function_call\": null, \"refusal\": null, \"role\": null, \"tool_calls\": null}, \"finish_reason\": null, \"index\": 0, \"logprobs\": null}], \"created\": 1723475486, \"model\": \"exllamav2-mistral7b\", \"object\": \"chat.completion.chunk\", \"service_tier\": null, \"system_fingerprint\": null, \"usage\": null}\n",
      "{\"id\": \"chatcmpl-9566c99e-f3f1-4d5a-ae7a-4c4b9c7d3e56\", \"choices\": [{\"delta\": {\"content\": \" there\", \"function_call\": null, \"refusal\": null, \"role\": null, \"tool_calls\": null}, \"finish_reason\": null, \"index\": 0, \"logprobs\": null}], \"created\": 1723475486, \"model\": \"exllamav2-mistral7b\", \"object\": \"chat.completion.chunk\", \"service_tier\": null, \"system_fingerprint\": null, \"usage\": null}\n",
      "{\"id\": \"chatcmpl-a5b3eeb7-9af4-48c6-b62b-03905f04fa9a\", \"choices\": [{\"delta\": {\"content\": \" was\", \"function_call\": null, \"refusal\": null, \"role\": null, \"tool_calls\": null}, \"finish_reason\": null, \"index\": 0, \"logprobs\": null}], \"created\": 1723475486, \"model\": \"exllamav2-mistral7b\", \"object\": \"chat.completion.chunk\", \"service_tier\": null, \"system_fingerprint\": null, \"usage\": null}\n",
      "{\"id\": \"chatcmpl-c3c8dc4f-bbb8-4c73-a728-1880031f18ba\", \"choices\": [{\"delta\": {\"content\": \" a\", \"function_call\": null, \"refusal\": null, \"role\": null, \"tool_calls\": null}, \"finish_reason\": null, \"index\": 0, \"logprobs\": null}], \"created\": 1723475486, \"model\": \"exllamav2-mistral7b\", \"object\": \"chat.completion.chunk\", \"service_tier\": null, \"system_fingerprint\": null, \"usage\": null}\n",
      "{\"id\": \"chatcmpl-c420cf2c-c062-40c3-a965-9738676bfb5c\", \"choices\": [{\"delta\": {\"content\": \" brave\", \"function_call\": null, \"refusal\": null, \"role\": null, \"tool_calls\": null}, \"finish_reason\": null, \"index\": 0, \"logprobs\": null}], \"created\": 1723475486, \"model\": \"exllamav2-mistral7b\", \"object\": \"chat.completion.chunk\", \"service_tier\": null, \"system_fingerprint\": null, \"usage\": null}\n",
      "{\"id\": \"chatcmpl-6fabf3b8-5762-4133-a5bd-8de2a9dafb19\", \"choices\": [{\"delta\": {\"content\": \" princess\", \"function_call\": null, \"refusal\": null, \"role\": null, \"tool_calls\": null}, \"finish_reason\": null, \"index\": 0, \"logprobs\": null}], \"created\": 1723475486, \"model\": \"exllamav2-mistral7b\", \"object\": \"chat.completion.chunk\", \"service_tier\": null, \"system_fingerprint\": null, \"usage\": null}\n",
      "{\"id\": \"chatcmpl-c527c6b8-b90e-4999-b1ef-694c5457604f\", \"choices\": [{\"delta\": {\"content\": \" named\", \"function_call\": null, \"refusal\": null, \"role\": null, \"tool_calls\": null}, \"finish_reason\": null, \"index\": 0, \"logprobs\": null}], \"created\": 1723475486, \"model\": \"exllamav2-mistral7b\", \"object\": \"chat.completion.chunk\", \"service_tier\": null, \"system_fingerprint\": null, \"usage\": null}\n",
      "{\"id\": \"chatcmpl-ed57a09d-5c9f-41bc-a9cf-8d06186556bd\", \"choices\": [{\"delta\": {\"content\": \" Is\", \"function_call\": null, \"refusal\": null, \"role\": null, \"tool_calls\": null}, \"finish_reason\": null, \"index\": 0, \"logprobs\": null}], \"created\": 1723475486, \"model\": \"exllamav2-mistral7b\", \"object\": \"chat.completion.chunk\", \"service_tier\": null, \"system_fingerprint\": null, \"usage\": null}\n",
      "{\"id\": \"chatcmpl-966d3b33-d221-4ad6-afdd-96ab8e7cb9a8\", \"choices\": [{\"delta\": {\"content\": \"ab\", \"function_call\": null, \"refusal\": null, \"role\": null, \"tool_calls\": null}, \"finish_reason\": null, \"index\": 0, \"logprobs\": null}], \"created\": 1723475486, \"model\": \"exllamav2-mistral7b\", \"object\": \"chat.completion.chunk\", \"service_tier\": null, \"system_fingerprint\": null, \"usage\": null}\n",
      "{\"id\": \"chatcmpl-76d6d85e-1b94-4a76-9cb8-78b466c8c989\", \"choices\": [{\"delta\": {\"content\": \"ella\", \"function_call\": null, \"refusal\": null, \"role\": null, \"tool_calls\": null}, \"finish_reason\": null, \"index\": 0, \"logprobs\": null}], \"created\": 1723475486, \"model\": \"exllamav2-mistral7b\", \"object\": \"chat.completion.chunk\", \"service_tier\": null, \"system_fingerprint\": null, \"usage\": null}\n",
      "{\"id\": \"chatcmpl-59542c2a-34fb-4e40-a7b2-84eabffd8bc1\", \"choices\": [{\"delta\": {\"content\": \". She\", \"function_call\": null, \"refusal\": null, \"role\": null, \"tool_calls\": null}, \"finish_reason\": null, \"index\": 0, \"logprobs\": null}], \"created\": 1723475487, \"model\": \"exllamav2-mistral7b\", \"object\": \"chat.completion.chunk\", \"service_tier\": null, \"system_fingerprint\": null, \"usage\": null}\n",
      "{\"id\": \"chatcmpl-7d2a5ecb-841f-4e10-9f1b-98947f3f38a1\", \"choices\": [{\"delta\": {\"content\": \" lived\", \"function_call\": null, \"refusal\": null, \"role\": null, \"tool_calls\": null}, \"finish_reason\": null, \"index\": 0, \"logprobs\": null}], \"created\": 1723475487, \"model\": \"exllamav2-mistral7b\", \"object\": \"chat.completion.chunk\", \"service_tier\": null, \"system_fingerprint\": null, \"usage\": null}\n",
      "{\"id\": \"chatcmpl-75af25af-35bb-4131-98eb-22f18b9afb45\", \"choices\": [{\"delta\": {\"content\": \" in\", \"function_call\": null, \"refusal\": null, \"role\": null, \"tool_calls\": null}, \"finish_reason\": null, \"index\": 0, \"logprobs\": null}], \"created\": 1723475487, \"model\": \"exllamav2-mistral7b\", \"object\": \"chat.completion.chunk\", \"service_tier\": null, \"system_fingerprint\": null, \"usage\": null}\n",
      "{\"id\": \"chatcmpl-073f5f22-f2e5-4299-8a8c-30837f092b7d\", \"choices\": [{\"delta\": {\"content\": \" a\", \"function_call\": null, \"refusal\": null, \"role\": null, \"tool_calls\": null}, \"finish_reason\": null, \"index\": 0, \"logprobs\": null}], \"created\": 1723475487, \"model\": \"exllamav2-mistral7b\", \"object\": \"chat.completion.chunk\", \"service_tier\": null, \"system_fingerprint\": null, \"usage\": null}\n",
      "{\"id\": \"chatcmpl-cc9f7a62-5e87-4cc1-a623-6e83c23dd34c\", \"choices\": [{\"delta\": {\"content\": \" beautiful\", \"function_call\": null, \"refusal\": null, \"role\": null, \"tool_calls\": null}, \"finish_reason\": null, \"index\": 0, \"logprobs\": null}], \"created\": 1723475487, \"model\": \"exllamav2-mistral7b\", \"object\": \"chat.completion.chunk\", \"service_tier\": null, \"system_fingerprint\": null, \"usage\": null}\n",
      "{\"id\": \"chatcmpl-6cde4b8a-5feb-49e1-a2fc-201ab9c6716a\", \"choices\": [{\"delta\": {\"content\": \" castle\", \"function_call\": null, \"refusal\": null, \"role\": null, \"tool_calls\": null}, \"finish_reason\": null, \"index\": 0, \"logprobs\": null}], \"created\": 1723475487, \"model\": \"exllamav2-mistral7b\", \"object\": \"chat.completion.chunk\", \"service_tier\": null, \"system_fingerprint\": null, \"usage\": null}\n",
      "{\"id\": \"chatcmpl-86c76325-dc7a-4906-b8ff-42671315e5e0\", \"choices\": [{\"delta\": {\"content\": \" surrounded\", \"function_call\": null, \"refusal\": null, \"role\": null, \"tool_calls\": null}, \"finish_reason\": null, \"index\": 0, \"logprobs\": null}], \"created\": 1723475487, \"model\": \"exllamav2-mistral7b\", \"object\": \"chat.completion.chunk\", \"service_tier\": null, \"system_fingerprint\": null, \"usage\": null}\n",
      "{\"id\": \"chatcmpl-317f220e-a4cc-4302-84c5-cb1d25d38de1\", \"choices\": [{\"delta\": {\"content\": \" by\", \"function_call\": null, \"refusal\": null, \"role\": null, \"tool_calls\": null}, \"finish_reason\": null, \"index\": 0, \"logprobs\": null}], \"created\": 1723475487, \"model\": \"exllamav2-mistral7b\", \"object\": \"chat.completion.chunk\", \"service_tier\": null, \"system_fingerprint\": null, \"usage\": null}\n",
      "{\"id\": \"chatcmpl-4372a847-1ab1-467a-a124-374d28e537b6\", \"choices\": [{\"delta\": {\"content\": \" a\", \"function_call\": null, \"refusal\": null, \"role\": null, \"tool_calls\": null}, \"finish_reason\": null, \"index\": 0, \"logprobs\": null}], \"created\": 1723475487, \"model\": \"exllamav2-mistral7b\", \"object\": \"chat.completion.chunk\", \"service_tier\": null, \"system_fingerprint\": null, \"usage\": null}\n",
      "{\"id\": \"chatcmpl-2a248caf-90c1-4fa6-8149-e3c6591fd971\", \"choices\": [{\"delta\": {\"content\": \" vast\", \"function_call\": null, \"refusal\": null, \"role\": null, \"tool_calls\": null}, \"finish_reason\": null, \"index\": 0, \"logprobs\": null}], \"created\": 1723475487, \"model\": \"exllamav2-mistral7b\", \"object\": \"chat.completion.chunk\", \"service_tier\": null, \"system_fingerprint\": null, \"usage\": null}\n",
      "{\"id\": \"chatcmpl-eb59d573-1cac-4e59-b632-362daf0df64b\", \"choices\": [{\"delta\": {\"content\": \" forest\", \"function_call\": null, \"refusal\": null, \"role\": null, \"tool_calls\": null}, \"finish_reason\": null, \"index\": 0, \"logprobs\": null}], \"created\": 1723475487, \"model\": \"exllamav2-mistral7b\", \"object\": \"chat.completion.chunk\", \"service_tier\": null, \"system_fingerprint\": null, \"usage\": null}\n",
      "{\"id\": \"chatcmpl-c8babe98-9097-4d17-9e9e-faa5bbae4922\", \"choices\": [{\"delta\": {\"content\": \". One\", \"function_call\": null, \"refusal\": null, \"role\": null, \"tool_calls\": null}, \"finish_reason\": null, \"index\": 0, \"logprobs\": null}], \"created\": 1723475487, \"model\": \"exllamav2-mistral7b\", \"object\": \"chat.completion.chunk\", \"service_tier\": null, \"system_fingerprint\": null, \"usage\": null}\n",
      "{\"id\": \"chatcmpl-6a1b61a6-3dfb-4c3e-b461-8fc65a564d24\", \"choices\": [{\"delta\": {\"content\": \" day\", \"function_call\": null, \"refusal\": null, \"role\": null, \"tool_calls\": null}, \"finish_reason\": null, \"index\": 0, \"logprobs\": null}], \"created\": 1723475487, \"model\": \"exllamav2-mistral7b\", \"object\": \"chat.completion.chunk\", \"service_tier\": null, \"system_fingerprint\": null, \"usage\": null}\n",
      "{\"id\": \"chatcmpl-5f1d8dac-1f82-433d-9f8b-2b7c133aeed4\", \"choices\": [{\"delta\": {\"content\": \",\", \"function_call\": null, \"refusal\": null, \"role\": null, \"tool_calls\": null}, \"finish_reason\": null, \"index\": 0, \"logprobs\": null}], \"created\": 1723475487, \"model\": \"exllamav2-mistral7b\", \"object\": \"chat.completion.chunk\", \"service_tier\": null, \"system_fingerprint\": null, \"usage\": null}\n",
      "{\"id\": \"chatcmpl-29bb66dd-34cb-406f-8ae8-79ace344d507\", \"choices\": [{\"delta\": {\"content\": \" a\", \"function_call\": null, \"refusal\": null, \"role\": null, \"tool_calls\": null}, \"finish_reason\": null, \"index\": 0, \"logprobs\": null}], \"created\": 1723475487, \"model\": \"exllamav2-mistral7b\", \"object\": \"chat.completion.chunk\", \"service_tier\": null, \"system_fingerprint\": null, \"usage\": null}\n",
      "{\"id\": \"chatcmpl-86ed62ac-3844-43f4-a516-2dddd89f8ff9\", \"choices\": [{\"delta\": {\"content\": \" horrible\", \"function_call\": null, \"refusal\": null, \"role\": null, \"tool_calls\": null}, \"finish_reason\": null, \"index\": 0, \"logprobs\": null}], \"created\": 1723475487, \"model\": \"exllamav2-mistral7b\", \"object\": \"chat.completion.chunk\", \"service_tier\": null, \"system_fingerprint\": null, \"usage\": null}\n",
      "{\"id\": \"chatcmpl-dc873540-1085-4079-a8bf-6431e8f75df8\", \"choices\": [{\"delta\": {\"content\": \" dragon\", \"function_call\": null, \"refusal\": null, \"role\": null, \"tool_calls\": null}, \"finish_reason\": null, \"index\": 0, \"logprobs\": null}], \"created\": 1723475487, \"model\": \"exllamav2-mistral7b\", \"object\": \"chat.completion.chunk\", \"service_tier\": null, \"system_fingerprint\": null, \"usage\": null}\n",
      "{\"id\": \"chatcmpl-ed8c1c17-ef33-481b-83ba-0631355f8e5d\", \"choices\": [{\"delta\": {\"content\": \" inv\", \"function_call\": null, \"refusal\": null, \"role\": null, \"tool_calls\": null}, \"finish_reason\": null, \"index\": 0, \"logprobs\": null}], \"created\": 1723475487, \"model\": \"exllamav2-mistral7b\", \"object\": \"chat.completion.chunk\", \"service_tier\": null, \"system_fingerprint\": null, \"usage\": null}\n",
      "{\"id\": \"chatcmpl-5feed8f5-e593-4c09-afc7-f1860cf2cfc1\", \"choices\": [{\"delta\": {\"content\": \"aded\", \"function_call\": null, \"refusal\": null, \"role\": null, \"tool_calls\": null}, \"finish_reason\": null, \"index\": 0, \"logprobs\": null}], \"created\": 1723475487, \"model\": \"exllamav2-mistral7b\", \"object\": \"chat.completion.chunk\", \"service_tier\": null, \"system_fingerprint\": null, \"usage\": null}\n",
      "{\"id\": \"chatcmpl-9ab3748c-84ee-4740-9136-1dab24fe9fdc\", \"choices\": [{\"delta\": {\"content\": \" the\", \"function_call\": null, \"refusal\": null, \"role\": null, \"tool_calls\": null}, \"finish_reason\": null, \"index\": 0, \"logprobs\": null}], \"created\": 1723475487, \"model\": \"exllamav2-mistral7b\", \"object\": \"chat.completion.chunk\", \"service_tier\": null, \"system_fingerprint\": null, \"usage\": null}\n",
      "{\"id\": \"chatcmpl-ffcb0369-beea-42a6-af7d-f98997931158\", \"choices\": [{\"delta\": {\"content\": \" kingdom\", \"function_call\": null, \"refusal\": null, \"role\": null, \"tool_calls\": null}, \"finish_reason\": null, \"index\": 0, \"logprobs\": null}], \"created\": 1723475487, \"model\": \"exllamav2-mistral7b\", \"object\": \"chat.completion.chunk\", \"service_tier\": null, \"system_fingerprint\": null, \"usage\": null}\n",
      "{\"id\": \"chatcmpl-57accf88-88c7-478f-bc9d-c52fa23fb4fc\", \"choices\": [{\"delta\": {\"content\": \" and\", \"function_call\": null, \"refusal\": null, \"role\": null, \"tool_calls\": null}, \"finish_reason\": null, \"index\": 0, \"logprobs\": null}], \"created\": 1723475487, \"model\": \"exllamav2-mistral7b\", \"object\": \"chat.completion.chunk\", \"service_tier\": null, \"system_fingerprint\": null, \"usage\": null}\n",
      "{\"id\": \"chatcmpl-76ece704-7e86-4054-9a8b-a4df5ee265f4\", \"choices\": [{\"delta\": {\"content\": \" stole\", \"function_call\": null, \"refusal\": null, \"role\": null, \"tool_calls\": null}, \"finish_reason\": null, \"index\": 0, \"logprobs\": null}], \"created\": 1723475487, \"model\": \"exllamav2-mistral7b\", \"object\": \"chat.completion.chunk\", \"service_tier\": null, \"system_fingerprint\": null, \"usage\": null}\n",
      "{\"id\": \"chatcmpl-e4f4879e-4e0c-4677-b3c2-61f432aec8b7\", \"choices\": [{\"delta\": {\"content\": \" the\", \"function_call\": null, \"refusal\": null, \"role\": null, \"tool_calls\": null}, \"finish_reason\": null, \"index\": 0, \"logprobs\": null}], \"created\": 1723475487, \"model\": \"exllamav2-mistral7b\", \"object\": \"chat.completion.chunk\", \"service_tier\": null, \"system_fingerprint\": null, \"usage\": null}\n",
      "{\"id\": \"chatcmpl-0a5e59d5-c023-4811-88c5-2c639e442c3b\", \"choices\": [{\"delta\": {\"content\": \" golden\", \"function_call\": null, \"refusal\": null, \"role\": null, \"tool_calls\": null}, \"finish_reason\": null, \"index\": 0, \"logprobs\": null}], \"created\": 1723475487, \"model\": \"exllamav2-mistral7b\", \"object\": \"chat.completion.chunk\", \"service_tier\": null, \"system_fingerprint\": null, \"usage\": null}\n",
      "{\"id\": \"chatcmpl-6e4cc4c1-2e85-4d21-9d07-a176585bdea3\", \"choices\": [{\"delta\": {\"content\": \" apple\", \"function_call\": null, \"refusal\": null, \"role\": null, \"tool_calls\": null}, \"finish_reason\": null, \"index\": 0, \"logprobs\": null}], \"created\": 1723475487, \"model\": \"exllamav2-mistral7b\", \"object\": \"chat.completion.chunk\", \"service_tier\": null, \"system_fingerprint\": null, \"usage\": null}\n",
      "{\"id\": \"chatcmpl-21003da7-3b62-43a6-841e-321f3e3897a2\", \"choices\": [{\"delta\": {\"content\": \" from\", \"function_call\": null, \"refusal\": null, \"role\": null, \"tool_calls\": null}, \"finish_reason\": null, \"index\": 0, \"logprobs\": null}], \"created\": 1723475487, \"model\": \"exllamav2-mistral7b\", \"object\": \"chat.completion.chunk\", \"service_tier\": null, \"system_fingerprint\": null, \"usage\": null}\n",
      "{\"id\": \"chatcmpl-29fd7873-edd1-4921-a2a4-88989a50c308\", \"choices\": [{\"delta\": {\"content\": \" the\", \"function_call\": null, \"refusal\": null, \"role\": null, \"tool_calls\": null}, \"finish_reason\": null, \"index\": 0, \"logprobs\": null}], \"created\": 1723475487, \"model\": \"exllamav2-mistral7b\", \"object\": \"chat.completion.chunk\", \"service_tier\": null, \"system_fingerprint\": null, \"usage\": null}\n",
      "{\"id\": \"chatcmpl-91bb8719-ea5a-44ba-9c70-377c27f4731c\", \"choices\": [{\"delta\": {\"content\": \" king\", \"function_call\": null, \"refusal\": null, \"role\": null, \"tool_calls\": null}, \"finish_reason\": null, \"index\": 0, \"logprobs\": null}], \"created\": 1723475487, \"model\": \"exllamav2-mistral7b\", \"object\": \"chat.completion.chunk\", \"service_tier\": null, \"system_fingerprint\": null, \"usage\": null}\n",
      "{\"id\": \"chatcmpl-38dc3225-6eaa-41a9-a73c-2f26cf0e48e1\", \"choices\": [{\"delta\": {\"content\": \"'\", \"function_call\": null, \"refusal\": null, \"role\": null, \"tool_calls\": null}, \"finish_reason\": null, \"index\": 0, \"logprobs\": null}], \"created\": 1723475487, \"model\": \"exllamav2-mistral7b\", \"object\": \"chat.completion.chunk\", \"service_tier\": null, \"system_fingerprint\": null, \"usage\": null}\n",
      "{\"id\": \"chatcmpl-f0084412-d30b-45e6-9a7c-e3fcc4267c62\", \"choices\": [{\"delta\": {\"content\": \"s\", \"function_call\": null, \"refusal\": null, \"role\": null, \"tool_calls\": null}, \"finish_reason\": null, \"index\": 0, \"logprobs\": null}], \"created\": 1723475487, \"model\": \"exllamav2-mistral7b\", \"object\": \"chat.completion.chunk\", \"service_tier\": null, \"system_fingerprint\": null, \"usage\": null}\n",
      "{\"id\": \"chatcmpl-36607f0b-59b4-4389-b3e0-bdf0a342ce87\", \"choices\": [{\"delta\": {\"content\": \" garden\", \"function_call\": null, \"refusal\": null, \"role\": null, \"tool_calls\": null}, \"finish_reason\": null, \"index\": 0, \"logprobs\": null}], \"created\": 1723475487, \"model\": \"exllamav2-mistral7b\", \"object\": \"chat.completion.chunk\", \"service_tier\": null, \"system_fingerprint\": null, \"usage\": null}\n",
      "{\"id\": \"chatcmpl-ae25b066-2e97-49be-815e-5fc1898edf96\", \"choices\": [{\"delta\": {\"content\": \". The\", \"function_call\": null, \"refusal\": null, \"role\": null, \"tool_calls\": null}, \"finish_reason\": null, \"index\": 0, \"logprobs\": null}], \"created\": 1723475487, \"model\": \"exllamav2-mistral7b\", \"object\": \"chat.completion.chunk\", \"service_tier\": null, \"system_fingerprint\": null, \"usage\": null}\n",
      "{\"id\": \"chatcmpl-742727a9-7aa3-45f3-933a-971dea990f5f\", \"choices\": [{\"delta\": {\"content\": \" king\", \"function_call\": null, \"refusal\": null, \"role\": null, \"tool_calls\": null}, \"finish_reason\": null, \"index\": 0, \"logprobs\": null}], \"created\": 1723475487, \"model\": \"exllamav2-mistral7b\", \"object\": \"chat.completion.chunk\", \"service_tier\": null, \"system_fingerprint\": null, \"usage\": null}\n",
      "{\"id\": \"chatcmpl-4e74bb49-68a5-4b73-9efd-ccda85385ff0\", \"choices\": [{\"delta\": {\"content\": \" was\", \"function_call\": null, \"refusal\": null, \"role\": null, \"tool_calls\": null}, \"finish_reason\": null, \"index\": 0, \"logprobs\": null}], \"created\": 1723475487, \"model\": \"exllamav2-mistral7b\", \"object\": \"chat.completion.chunk\", \"service_tier\": null, \"system_fingerprint\": null, \"usage\": null}\n",
      "{\"id\": \"chatcmpl-2a12fe01-71a6-4805-9644-7f55cd06dbe7\", \"choices\": [{\"delta\": {\"content\": \" very\", \"function_call\": null, \"refusal\": null, \"role\": null, \"tool_calls\": null}, \"finish_reason\": null, \"index\": 0, \"logprobs\": null}], \"created\": 1723475487, \"model\": \"exllamav2-mistral7b\", \"object\": \"chat.completion.chunk\", \"service_tier\": null, \"system_fingerprint\": null, \"usage\": null}\n",
      "{\"id\": \"chatcmpl-91899d5e-bf61-4b90-bdcd-1163a0c2f38c\", \"choices\": [{\"delta\": {\"content\": \" upset\", \"function_call\": null, \"refusal\": null, \"role\": null, \"tool_calls\": null}, \"finish_reason\": null, \"index\": 0, \"logprobs\": null}], \"created\": 1723475487, \"model\": \"exllamav2-mistral7b\", \"object\": \"chat.completion.chunk\", \"service_tier\": null, \"system_fingerprint\": null, \"usage\": null}\n",
      "{\"id\": \"chatcmpl-8df45edf-3b2a-4db3-9eec-249d34a6f6ff\", \"choices\": [{\"delta\": {\"content\": \" and\", \"function_call\": null, \"refusal\": null, \"role\": null, \"tool_calls\": null}, \"finish_reason\": null, \"index\": 0, \"logprobs\": null}], \"created\": 1723475488, \"model\": \"exllamav2-mistral7b\", \"object\": \"chat.completion.chunk\", \"service_tier\": null, \"system_fingerprint\": null, \"usage\": null}\n",
      "{\"id\": \"chatcmpl-199f29a3-e407-419d-89b0-7e837535159f\", \"choices\": [{\"delta\": {\"content\": \" offered\", \"function_call\": null, \"refusal\": null, \"role\": null, \"tool_calls\": null}, \"finish_reason\": null, \"index\": 0, \"logprobs\": null}], \"created\": 1723475488, \"model\": \"exllamav2-mistral7b\", \"object\": \"chat.completion.chunk\", \"service_tier\": null, \"system_fingerprint\": null, \"usage\": null}\n",
      "{\"id\": \"chatcmpl-947efe1c-b24f-47ec-9ee3-368c92edc328\", \"choices\": [{\"delta\": {\"content\": \" a\", \"function_call\": null, \"refusal\": null, \"role\": null, \"tool_calls\": null}, \"finish_reason\": null, \"index\": 0, \"logprobs\": null}], \"created\": 1723475488, \"model\": \"exllamav2-mistral7b\", \"object\": \"chat.completion.chunk\", \"service_tier\": null, \"system_fingerprint\": null, \"usage\": null}\n",
      "{\"id\": \"chatcmpl-aca4d1db-0755-4b5a-90b5-f1c2a1e67cf2\", \"choices\": [{\"delta\": {\"content\": \" reward\", \"function_call\": null, \"refusal\": null, \"role\": null, \"tool_calls\": null}, \"finish_reason\": null, \"index\": 0, \"logprobs\": null}], \"created\": 1723475488, \"model\": \"exllamav2-mistral7b\", \"object\": \"chat.completion.chunk\", \"service_tier\": null, \"system_fingerprint\": null, \"usage\": null}\n",
      "{\"id\": \"chatcmpl-00366d0c-2758-4793-bcb6-ff7718ad063f\", \"choices\": [{\"delta\": {\"content\": \" to\", \"function_call\": null, \"refusal\": null, \"role\": null, \"tool_calls\": null}, \"finish_reason\": null, \"index\": 0, \"logprobs\": null}], \"created\": 1723475488, \"model\": \"exllamav2-mistral7b\", \"object\": \"chat.completion.chunk\", \"service_tier\": null, \"system_fingerprint\": null, \"usage\": null}\n",
      "{\"id\": \"chatcmpl-26c3b8c2-22e3-4933-bb1a-d36aff7e3c08\", \"choices\": [{\"delta\": {\"content\": \" anyone\", \"function_call\": null, \"refusal\": null, \"role\": null, \"tool_calls\": null}, \"finish_reason\": null, \"index\": 0, \"logprobs\": null}], \"created\": 1723475488, \"model\": \"exllamav2-mistral7b\", \"object\": \"chat.completion.chunk\", \"service_tier\": null, \"system_fingerprint\": null, \"usage\": null}\n",
      "{\"id\": \"chatcmpl-4c400a27-9ac5-44b5-bda3-696ba8719fcf\", \"choices\": [{\"delta\": {\"content\": \" who\", \"function_call\": null, \"refusal\": null, \"role\": null, \"tool_calls\": null}, \"finish_reason\": null, \"index\": 0, \"logprobs\": null}], \"created\": 1723475488, \"model\": \"exllamav2-mistral7b\", \"object\": \"chat.completion.chunk\", \"service_tier\": null, \"system_fingerprint\": null, \"usage\": null}\n",
      "{\"id\": \"chatcmpl-9e9cac4c-86cb-483c-a772-60e0493eddb9\", \"choices\": [{\"delta\": {\"content\": \" could\", \"function_call\": null, \"refusal\": null, \"role\": null, \"tool_calls\": null}, \"finish_reason\": null, \"index\": 0, \"logprobs\": null}], \"created\": 1723475488, \"model\": \"exllamav2-mistral7b\", \"object\": \"chat.completion.chunk\", \"service_tier\": null, \"system_fingerprint\": null, \"usage\": null}\n",
      "{\"id\": \"chatcmpl-0edead4c-c4ba-4ff1-9a57-ece22a4fb59a\", \"choices\": [{\"delta\": {\"content\": \" retrieve\", \"function_call\": null, \"refusal\": null, \"role\": null, \"tool_calls\": null}, \"finish_reason\": null, \"index\": 0, \"logprobs\": null}], \"created\": 1723475488, \"model\": \"exllamav2-mistral7b\", \"object\": \"chat.completion.chunk\", \"service_tier\": null, \"system_fingerprint\": null, \"usage\": null}\n",
      "{\"id\": \"chatcmpl-fb036497-f9b2-412b-96d7-35d7fa690e5a\", \"choices\": [{\"delta\": {\"content\": \" the\", \"function_call\": null, \"refusal\": null, \"role\": null, \"tool_calls\": null}, \"finish_reason\": null, \"index\": 0, \"logprobs\": null}], \"created\": 1723475488, \"model\": \"exllamav2-mistral7b\", \"object\": \"chat.completion.chunk\", \"service_tier\": null, \"system_fingerprint\": null, \"usage\": null}\n",
      "{\"id\": \"chatcmpl-19f06e97-91e8-4cb0-a6a2-81deaf4b1286\", \"choices\": [{\"delta\": {\"content\": \" golden\", \"function_call\": null, \"refusal\": null, \"role\": null, \"tool_calls\": null}, \"finish_reason\": null, \"index\": 0, \"logprobs\": null}], \"created\": 1723475488, \"model\": \"exllamav2-mistral7b\", \"object\": \"chat.completion.chunk\", \"service_tier\": null, \"system_fingerprint\": null, \"usage\": null}\n",
      "{\"id\": \"chatcmpl-133d6821-a318-4583-9c6c-9784a0ad6005\", \"choices\": [{\"delta\": {\"content\": \" apple\", \"function_call\": null, \"refusal\": null, \"role\": null, \"tool_calls\": null}, \"finish_reason\": null, \"index\": 0, \"logprobs\": null}], \"created\": 1723475488, \"model\": \"exllamav2-mistral7b\", \"object\": \"chat.completion.chunk\", \"service_tier\": null, \"system_fingerprint\": null, \"usage\": null}\n",
      "{\"id\": \"chatcmpl-d252e952-087f-4f48-8711-8a5d1cf821f8\", \"choices\": [{\"delta\": {\"content\": null, \"function_call\": null, \"refusal\": null, \"role\": null, \"tool_calls\": null}, \"finish_reason\": \"stop\", \"index\": 0, \"logprobs\": null}], \"created\": 1723475488, \"model\": \"exllamav2-mistral7b\", \"object\": \"chat.completion.chunk\", \"service_tier\": null, \"system_fingerprint\": null, \"usage\": null}\n"
     ]
    }
   ],
   "source": [
    "%%bash\n",
    "curl -X POST \\\n",
    "    http://localhost:12031/gen/v1/chat/completions \\\n",
    "    -H 'Content-Type: application/json' \\\n",
    "    -s \\\n",
    "    -N \\\n",
    "    -d \"{\\\"model\\\":\\\"exllamav2-mistral7b\\\", \\\n",
    "        \\\"messages\\\": [ \\\n",
    "            {\\\"role\\\": \\\"user\\\",\\\"content\\\": \\\"Tell me a story.\\\"}, \\\n",
    "            {\\\"role\\\": \\\"assistant\\\",\\\"content\\\": \\\"\\\"} \\\n",
    "        ],\\\n",
    "        \\\"stream\\\":true}\"\n"
   ]
  },
  {
   "cell_type": "markdown",
   "metadata": {},
   "source": [
    "### c) Test Tool Calling"
   ]
  },
  {
   "cell_type": "code",
   "execution_count": 3,
   "metadata": {},
   "outputs": [
    {
     "name": "stdout",
     "output_type": "stream",
     "text": [
      "{\"id\":\"chatcmpl-7a4a7ef9-dc8f-4c8a-986d-21d7d0387762\",\"choices\":[{\"finish_reason\":\"tool_calls\",\"index\":0,\"logprobs\":null,\"message\":{\"content\":null,\"refusal\":null,\"role\":\"assistant\",\"function_call\":null,\"tool_calls\":[{\"id\":\"call_e76edb4e-30f4-4d5b-ac34-0a6d4dd26247\",\"function\":{\"arguments\":\"{\\\"search_query\\\": \\\"current time Singapore\\\"}\",\"name\":\"google\"},\"type\":\"function\"}]}}],\"created\":1723475493,\"model\":\"exllamav2-mistral7b\",\"object\":\"chat.completion\",\"service_tier\":null,\"system_fingerprint\":null,\"usage\":{\"completion_tokens\":21,\"prompt_tokens\":335,\"total_tokens\":356}}"
     ]
    }
   ],
   "source": [
    "%%bash\n",
    "curl -X POST \\\n",
    "    http://localhost:12031/gen/v1/chat/completions \\\n",
    "    -H 'Content-Type: application/json' \\\n",
    "    -s \\\n",
    "    -N \\\n",
    "    -d \"{\\\"model\\\":\\\"exllamav2-mistral7b\\\", \\\n",
    "        \\\"messages\\\": [ \\\n",
    "            {\\\"role\\\": \\\"user\\\",\\\"content\\\": \\\"What is the current time in Singapore\\\"}, \\\n",
    "            {\\\"role\\\": \\\"assistant\\\",\\\"content\\\": \\\"\\\"} \\\n",
    "        ],\\\n",
    "        \\\"tools\\\": [\\\n",
    "            {\\\n",
    "                \\\"type\\\": \\\"function\\\",\\\n",
    "                \\\"function\\\": {\\\n",
    "                    \\\"name\\\": \\\"google\\\",\\\n",
    "                    \\\"description\\\": \\\"The 'google' function is a powerful tool that allows the AI to gather external information from the internet using Google search. It can be invoked when the AI needs to answer a question or provide information that requires up-to-date, comprehensive, and diverse sources which are not inherently known by the AI. For instance, it can be used to find current date, current news, weather updates, latest sports scores, trending topics, specific facts, or even the current date and time. The usage of this tool should be considered when the user's query implies or explicitly requests recent or wide-ranging data, or when the AI's inherent knowledge base may not have the required or most current information. The 'search_query' parameter should be a concise and accurate representation of the information needed.\\\",\\\n",
    "                    \\\"parameters\\\": {\\\n",
    "                        \\\"type\\\": \\\"object\\\",\\\n",
    "                        \\\"properties\\\": {\\\n",
    "                            \\\"search_query\\\": {\\\n",
    "                                \\\"type\\\": \\\"string\\\",\\\n",
    "                                \\\"description\\\": \\\"The search query to search google with. For example, to find the current date or time, use 'current date' or 'current time' respectively.\\\"\\\n",
    "                            }\\\n",
    "                        },\\\n",
    "                        \\\"required\\\": [\\\"search_query\\\"]\\\n",
    "                    }\\\n",
    "                }\\\n",
    "            }\\\n",
    "        ],\\\n",
    "        \\\"tool_choice\\\": \\\"required\\\"}\""
   ]
  },
  {
   "cell_type": "markdown",
   "metadata": {},
   "source": [
    "### d) Test Response Model"
   ]
  },
  {
   "cell_type": "code",
   "execution_count": 10,
   "metadata": {},
   "outputs": [
    {
     "name": "stdout",
     "output_type": "stream",
     "text": [
      "{\"id\":\"chatcmpl-2222fe80-7313-4fe0-8746-5a10869dc179\",\"choices\":[{\"finish_reason\":\"stop\",\"index\":0,\"logprobs\":null,\"message\":{\"content\":\" {\\n  \\\"title\\\": \\\"Foundation\\\",\\n  \\\"summary\\\": \\\"Foundation is a science fiction novel by Isaac Asimov, the first published in his Foundation Trilogy. It is a cycle of five interrelated short stories that tell the early story of the Foundation, an institute founded by psychohistorian Hari Seldon to preserve the best of galactic civilization after the collapse of the Galactic Empire.\\\",\\n  \\\"author\\\": \\\"Isaac Asimov\\\",\\n  \\\"published_year\\\": 1951\\n}\",\"refusal\":null,\"role\":\"assistant\",\"function_call\":null,\"tool_calls\":null}}],\"created\":1723391099,\"model\":\"exllamav2-mistral7b\",\"object\":\"chat.completion\",\"service_tier\":null,\"system_fingerprint\":null,\"usage\":{\"completion_tokens\":116,\"prompt_tokens\":253,\"total_tokens\":369}}"
     ]
    }
   ],
   "source": [
    "%%bash\n",
    "curl -X POST \\\n",
    "    http://localhost:12031/gen/v1/chat/completions \\\n",
    "    -H 'Content-Type: application/json' \\\n",
    "    -s \\\n",
    "    -N \\\n",
    "    -d \"{\\\"model\\\":\\\"exllamav2-mistral7b\\\", \\\n",
    "        \\\"messages\\\": [ \\\n",
    "            {\\\"role\\\": \\\"user\\\",\\\"content\\\": \\\"Foundation is a science fiction novel by American writer \\\n",
    "            Isaac Asimov. It is the first published in his Foundation Trilogy (later \\\n",
    "            expanded into the Foundation series). Foundation is a cycle of five \\\n",
    "            interrelated short stories, first published as a single book by Gnome Press \\\n",
    "            in 1951. Collectively they tell the early story of the Foundation, \\\n",
    "            an institute founded by psychohistorian Hari Seldon to preserve the best \\\n",
    "            of galactic civilization after the collapse of the Galactic Empire.\\\"}, \\\n",
    "            {\\\"role\\\": \\\"assistant\\\",\\\"content\\\": \\\"\\\"} \\\n",
    "        ],\\\n",
    "        \\\"response_model\\\": {\\\"properties\\\": \\\n",
    "            {\\\"title\\\": \\\n",
    "                {\\\"title\\\": \\\"Title\\\", \\\"type\\\": \\\"string\\\"}, \\\n",
    "                    \\\"summary\\\": {\\\"title\\\": \\\"Summary\\\", \\\"type\\\": \\\"string\\\"}, \\\n",
    "                    \\\"author\\\": {\\\"title\\\": \\\"Author\\\", \\\n",
    "                    \\\"type\\\": \\\"string\\\"\\\n",
    "                }, \\\n",
    "                \\\"published_year\\\": {\\\n",
    "                    \\\"title\\\": \\\"Published Year\\\", \\\n",
    "                    \\\"type\\\": \\\"integer\\\"}}, \\\n",
    "                \\\"required\\\": [\\\n",
    "                    \\\"title\\\", \\\n",
    "                    \\\"summary\\\", \\\n",
    "                    \\\"author\\\", \\\n",
    "                    \\\"published_year\\\"\\\n",
    "                ], \\\n",
    "                \\\"title\\\": \\\"Book\\\", \\\n",
    "                \\\"type\\\": \\\"object\\\"\\\n",
    "            },\\\n",
    "        \\\"tool_choice\\\": \\\"none\\\"}\""
   ]
  },
  {
   "cell_type": "markdown",
   "metadata": {},
   "source": [
    "### e) Shut down the API Service"
   ]
  },
  {
   "cell_type": "markdown",
   "metadata": {},
   "source": [
    "## 5. Docker"
   ]
  },
  {
   "cell_type": "markdown",
   "metadata": {},
   "source": [
    "a) Open Visual Code\n",
    "\n",
    "b) Press `CTRL + SHIFT + P` and \"Tasks: Run Task\" > \"[gai-ttt] run\"\n",
    "\n",
    "c) Check the docker logs to confirm the model is ready.\n",
    "\n",
    "d) Repeat all the tests above."
   ]
  }
 ],
 "metadata": {
  "kernelspec": {
   "display_name": "gai-ttt-svr",
   "language": "python",
   "name": "python3"
  },
  "language_info": {
   "codemirror_mode": {
    "name": "ipython",
    "version": 3
   },
   "file_extension": ".py",
   "mimetype": "text/x-python",
   "name": "python",
   "nbconvert_exporter": "python",
   "pygments_lexer": "ipython3",
   "version": "3.10.14"
  }
 },
 "nbformat": 4,
 "nbformat_minor": 2
}
